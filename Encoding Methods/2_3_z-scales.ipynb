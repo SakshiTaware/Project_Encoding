{
 "cells": [
  {
   "cell_type": "markdown",
   "id": "e7004755",
   "metadata": {},
   "source": [
    "## Physiochemical Property Based Encoding: Z scales\n",
    "\n"
   ]
  },
  {
   "cell_type": "code",
   "execution_count": 1,
   "id": "e442d889",
   "metadata": {},
   "outputs": [],
   "source": [
    "import numpy as np\n",
    "import pandas as pd\n",
    "from numpy import array"
   ]
  },
  {
   "cell_type": "code",
   "execution_count": null,
   "id": "a098f853",
   "metadata": {},
   "outputs": [],
   "source": [
    "# Define Z-Scale values for 20 standard amino acids (Hellberg et al., 1987)\n",
    "Z_SCALES = {\n",
    "    \"A\": [0.07, -1.73, 0.16, 0.18, -0.11],\n",
    "    \"C\": [1.26, -1.57, 0.38, -0.43, -0.21],\n",
    "    \"D\": [-0.89, 1.34, -0.30, 0.61, -0.21],\n",
    "    \"E\": [-1.68, 1.94, -0.27, 0.37, -0.23],\n",
    "    \"F\": [1.52, -1.14, 0.44, -0.99, 1.14],\n",
    "    \"G\": [-0.16, -2.46, -0.03, 0.23, 0.15],\n",
    "    \"H\": [0.49, 0.88, -0.12, 0.27, 0.23],\n",
    "    \"I\": [1.41, -0.84, 0.47, -1.10, 0.31],\n",
    "    \"K\": [-1.50, 2.05, 0.30, 1.14, -0.21],\n",
    "    \"L\": [1.14, -0.75, 0.40, -1.12, 0.26],\n",
    "    \"M\": [0.65, -0.49, 1.30, -0.76, 0.41],\n",
    "    \"N\": [-0.75, 1.98, -0.09, 0.14, -0.21],\n",
    "    \"P\": [-0.46, 0.27, 0.25, -0.20, 0.14],\n",
    "    \"Q\": [-0.73, 1.84, -0.15, 0.11, -0.21],\n",
    "    \"R\": [-1.95, 2.44, 0.28, 1.53, -0.21],\n",
    "    \"S\": [-0.26, 0.06, -0.11, 0.06, 0.06],\n",
    "    \"T\": [-0.30, -0.40, -0.04, -0.32, 0.17],\n",
    "    \"V\": [1.13, -0.67, 0.50, -1.09, 0.30],\n",
    "    \"W\": [1.85, 0.30, 0.79, -0.71, 2.55],\n",
    "    \"Y\": [0.94, 0.65, 0.15, -0.41, 1.61]\n",
    "}"
   ]
  },
  {
   "cell_type": "code",
   "execution_count": null,
   "id": "01f5af9b",
   "metadata": {},
   "outputs": [],
   "source": [
    "def encode_sequence_zscale(sequence, zscale_dict):\n",
    "    \"\"\"\n",
    "    Convert a protein sequence into a numerical matrix using Z-Scale encoding.\n",
    "    \n",
    "    Parameters:\n",
    "        sequence (str): Protein sequence.\n",
    "        zscale_dict (dict): Mapping of amino acids to Z-Scale values.\n",
    "\n",
    "    Returns:\n",
    "        np.array: Encoded sequence (Length × 5 features)\n",
    "    \"\"\"\n",
    "    encoding = [zscale_dict.get(aa, [0, 0, 0, 0, 0]) for aa in sequence]  # Use [0,0,0,0,0] for unknown AA\n",
    "    return np.array(encoding)\n",
    "\n",
    "# Example protein sequence\n",
    "sequence = \"ACD\"\n",
    "\n",
    "# Encode using Z-Scale\n",
    "encoded_sequence = encode_sequence_zscale(sequence, Z_SCALES)\n",
    "\n",
    "print(\"Encoded Sequence (Z-Scale Features):\\n\", encoded_sequence)\n"
   ]
  },
  {
   "cell_type": "code",
   "execution_count": null,
   "id": "8a3071b3",
   "metadata": {},
   "outputs": [],
   "source": [
    "# Load dataset (ensure CSV has a 'sequence' column)\n",
    "df = pd.read_csv(\"ExampleData.csv\")\n",
    "sequences = df['Sequence'].tolist()\n",
    "# Apply Z-Scale encoding to all sequences\n",
    "df[\"encoded_sequence\"] = df[\"Sequence\"].apply(lambda seq: encode_sequence_zscale(seq, Z_SCALES).tolist())\n",
    "\n",
    "# Save encoded dataset\n",
    "df.to_csv(\"zscale_encoded_dataset.csv\", index=False)"
   ]
  },
  {
   "cell_type": "code",
   "execution_count": null,
   "id": "eb1bbf31",
   "metadata": {},
   "outputs": [],
   "source": [
    "df"
   ]
  },
  {
   "cell_type": "code",
   "execution_count": null,
   "id": "adb6b27a",
   "metadata": {},
   "outputs": [],
   "source": [
    "import seaborn as sns\n",
    "import matplotlib.pyplot as plt"
   ]
  },
  {
   "cell_type": "code",
   "execution_count": null,
   "id": "74dc6292",
   "metadata": {
    "scrolled": true
   },
   "outputs": [],
   "source": [
    "# storing sequences as lists \n",
    "df[\"encoded_sequence\"] = df[\"encoded_sequence\"].apply(lambda x: eval(x) if isinstance(x, str) else x)\n",
    "\n",
    "# Convert to a NumPy matrix\n",
    "zscale_matrix = np.array(df[\"encoded_sequence\"].tolist())\n",
    "\n",
    "# Check matrix shape before plotting\n",
    "print(\"Matrix Shape:\", zscale_matrix.shape)  # Should be (num_sequences, sequence_length, 5)\n",
    "\n",
    "# Select one Z-scale feature (e.g., Hydrophobicity, Z1)\n",
    "zscale_feature_matrix = zscale_matrix[:, :, 0]  # Extract the first physicochemical property\n",
    "\n",
    "# Plot heatmap\n",
    "plt.figure(figsize=(12, 6))\n",
    "sns.heatmap(zscale_feature_matrix, cmap=\"viridis\", cbar=True, xticklabels=False, yticklabels=False)\n",
    "\n",
    "plt.xlabel(\"Amino Acid Position\")\n",
    "plt.ylabel(\"Protein Sequences\")\n",
    "plt.title(\"Z-Scale Encoded Protein Sequences - Heatmap (Z1 Feature)\")\n",
    "plt.show()\n"
   ]
  },
  {
   "cell_type": "code",
   "execution_count": null,
   "id": "ecd23d44",
   "metadata": {},
   "outputs": [],
   "source": [
    "# IGNORE\n",
    "\n",
    "# Flatten the Z-Scale features for statistical analysis\n",
    "zscale_data = np.array(df[\"encoded_sequence\"].tolist())\n",
    "\n",
    "# Calculate basic statistics\n",
    "mean_values = np.mean(zscale_data, axis=(0, 1))  # Mean of each Z-Scale across all sequences\n",
    "std_values = np.std(zscale_data, axis=(0, 1))    # Standard deviation\n",
    "\n",
    "# Display the statistics\n",
    "zscale_labels = [\"Z1 (Hydrophobicity)\", \"Z2 (Size)\", \"Z3 (Polarity)\", \"Z4 (Electronic Effects)\", \"Z5 (Secondary Structure)\"]\n",
    "for label, mean, std in zip(zscale_labels, mean_values, std_values):\n",
    "    print(f\"{label}: Mean = {mean:.2f}, Std = {std:.2f}\")"
   ]
  }
 ],
 "metadata": {
  "kernelspec": {
   "display_name": "Python 3 (ipykernel)",
   "language": "python",
   "name": "python3"
  },
  "language_info": {
   "codemirror_mode": {
    "name": "ipython",
    "version": 3
   },
   "file_extension": ".py",
   "mimetype": "text/x-python",
   "name": "python",
   "nbconvert_exporter": "python",
   "pygments_lexer": "ipython3",
   "version": "3.9.13"
  }
 },
 "nbformat": 4,
 "nbformat_minor": 5
}
