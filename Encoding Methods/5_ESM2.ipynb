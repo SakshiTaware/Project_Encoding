{
 "cells": [
  {
   "cell_type": "markdown",
   "id": "1c9a346f",
   "metadata": {},
   "source": [
    "## ESM2\n",
    "\n",
    "Refer: https://doi.org/10.1101/2022.07.20.500902 \n",
    "\n",
    "Code: https://huggingface.co/docs/transformers/en/model_doc/esm and https://github.com/facebookresearch/esm/tree/main\n"
   ]
  },
  {
   "cell_type": "code",
   "execution_count": null,
   "id": "d8a8d97b",
   "metadata": {},
   "outputs": [],
   "source": []
  },
  {
   "cell_type": "code",
   "execution_count": null,
   "id": "870ce266",
   "metadata": {},
   "outputs": [],
   "source": [
    "import torch\n",
    "model, alphabet = torch.hub.load(\"facebookresearch/esm:main\", \"esm2_t33_650M_UR50D\")"
   ]
  },
  {
   "cell_type": "code",
   "execution_count": null,
   "id": "f32e9e22",
   "metadata": {},
   "outputs": [],
   "source": [
    "import torch\n",
    "import esm"
   ]
  },
  {
   "cell_type": "code",
   "execution_count": null,
   "id": "958715e0",
   "metadata": {},
   "outputs": [],
   "source": [
    "import pandas as pd\n",
    "import matplotlib.pyplot as plt"
   ]
  },
  {
   "cell_type": "code",
   "execution_count": null,
   "id": "7ebe05d3",
   "metadata": {},
   "outputs": [],
   "source": [
    "\n",
    "\n",
    "# Load the ESM-2 model\n",
    "model, alphabet = esm.pretrained.esm2_t33_650M_UR50D()\n",
    "batch_converter = alphabet.get_batch_converter()\n",
    "model.eval()\n",
    "\n",
    "# Load your protein sequence dataset\n",
    "dataset_path = 'ExampleData.csv'  # Update with your CSV file path\n",
    "sequences_df = pd.read_csv(dataset_path)\n",
    "\n",
    "# Prepare a list of tuples with sequence IDs and sequences\n",
    "sequences = [(f\"seq_{i}\", seq) for i, seq in enumerate(sequences_df['Sequence'])]\n",
    "attention_maps = {}\n",
    "\n",
    "# Generate embeddings for each sequence\n",
    "embeddings = []\n",
    "for i in range(0, len(sequences), 10):  # Batch processing with a batch size of 32\n",
    "    batch_data = sequences[i:i+10]\n",
    "    batch_labels, batch_strs, batch_tokens = batch_converter(batch_data)\n",
    "    \n",
    "    with torch.no_grad():\n",
    "        results = model(batch_tokens, repr_layers=[33], return_contacts=True)\n",
    "    \n",
    "    # Extract the mean of the embeddings across the sequence length\n",
    "    for label, embedding in zip(batch_labels, results[\"representations\"][33]):\n",
    "        mean_embedding = embedding.mean(0).numpy()\n",
    "        embeddings.append(mean_embedding)\n",
    "    \n",
    "    for (label, seq), tokens_len, attention_contacts in zip(batch_data, batch_tokens.ne(1).sum(1), results[\"contacts\"]):\n",
    "        attention_maps[label] = (seq, attention_contacts[:tokens_len, :tokens_len].cpu().numpy())\n",
    "        \n",
    "\n",
    "# Create a DataFrame to store embeddings with sequence IDs\n",
    "embedding_df = pd.DataFrame(embeddings)\n",
    "embedding_df['Sequence'] = sequences_df['Sequence']\n",
    "\n",
    "# Save the embeddings to a CSV file\n",
    "output_file = 'esm_embeddings.csv'\n",
    "embedding_df.to_csv(output_file, index=False)\n",
    "\n",
    "print(f\"ESM embeddings saved successfully to {output_file}.\")\n"
   ]
  },
  {
   "cell_type": "code",
   "execution_count": null,
   "id": "0a3fb88b",
   "metadata": {},
   "outputs": [],
   "source": [
    "for label, (sequence, attention_contacts) in attention_maps.items():\n",
    "    plt.figure(figsize=(6, 6))\n",
    "    plt.matshow(attention_contacts, cmap='viridis', fignum=0)\n",
    "    plt.title(f\"Attention Contacts: {label}\\n{sequence[:30]}...\")\n",
    "    plt.colorbar(label='Contact Probability')\n",
    "    plt.xlabel('Residue Position')\n",
    "    plt.ylabel('Residue Position')\n",
    "    plt.show()\n",
    "    "
   ]
  },
  {
   "cell_type": "code",
   "execution_count": null,
   "id": "53f86507",
   "metadata": {},
   "outputs": [],
   "source": [
    "out=pd.read_csv(\"esm_embeddings.csv\")"
   ]
  },
  {
   "cell_type": "code",
   "execution_count": null,
   "id": "6bbbfcaf",
   "metadata": {},
   "outputs": [],
   "source": [
    "out"
   ]
  }
 ],
 "metadata": {
  "kernelspec": {
   "display_name": "Python 3 (ipykernel)",
   "language": "python",
   "name": "python3"
  },
  "language_info": {
   "codemirror_mode": {
    "name": "ipython",
    "version": 3
   },
   "file_extension": ".py",
   "mimetype": "text/x-python",
   "name": "python",
   "nbconvert_exporter": "python",
   "pygments_lexer": "ipython3",
   "version": "3.9.13"
  }
 },
 "nbformat": 4,
 "nbformat_minor": 5
}
