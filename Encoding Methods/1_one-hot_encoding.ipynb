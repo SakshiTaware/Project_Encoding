{
 "cells": [
  {
   "cell_type": "markdown",
   "id": "5ee9ca4e",
   "metadata": {},
   "source": [
    "## One-hot encoding"
   ]
  },
  {
   "cell_type": "code",
   "execution_count": null,
   "id": "1fa5c476",
   "metadata": {},
   "outputs": [],
   "source": [
    "import pandas as pd\n",
    "import numpy as np\n",
    "from sklearn.preprocessing import OneHotEncoder\n",
    "from numpy import array"
   ]
  },
  {
   "cell_type": "code",
   "execution_count": null,
   "id": "5c02aabe",
   "metadata": {},
   "outputs": [],
   "source": [
    "# Define the 20 standard amino acids\n",
    "AMINO_ACIDS = np.array(list(\"ACDEFGHIKLMNPQRSTVWY\")).reshape(-1, 1)\n",
    "\n",
    "# Initialize OneHotEncoder (without sparse matrix output)\n",
    "encoder = OneHotEncoder(sparse=False, handle_unknown='ignore')\n",
    "encoder.fit(AMINO_ACIDS)  # Fit only on valid amino acids\n",
    "\n",
    "# Function to one-hot encode a single sequence\n",
    "def one_hot_encode_sequence(sequence):\n",
    "    \"\"\"\n",
    "    Convert a protein sequence of fixed length 145 into a one-hot encoded matrix.\n",
    "    \n",
    "    Parameters:\n",
    "        sequence (str): Protein sequence of length 145.\n",
    "\n",
    "    Returns:\n",
    "        np.array: One-hot encoded matrix of shape (145, 20).\n",
    "    \"\"\"\n",
    "    sequence_array = np.array(list(sequence)).reshape(-1, 1)  # Convert sequence into column format\n",
    "    encoded_sequence = encoder.transform(sequence_array)  # Apply OneHotEncoder\n",
    "    return encoded_sequence\n",
    "\n",
    "# Load dataset (Ensure CSV has a 'sequence' column)\n",
    "df = pd.read_csv(\"ExampleData.csv\")\n",
    "\n",
    "# Verify all sequences are of length 145\n",
    "assert all(df['Sequence'].apply(len) == 145), \"Not all sequences have length 145!\"\n",
    "\n",
    "# Apply one-hot encoding to all sequences\n",
    "encoded_sequences = np.array([one_hot_encode_sequence(seq) for seq in df['Sequence']])\n",
    "\n",
    "# Reshape into a 2D array (if needed for ML models)\n",
    "encoded_sequences_flat = encoded_sequences.reshape(encoded_sequences.shape[0], -1)\n",
    "\n"
   ]
  },
  {
   "cell_type": "code",
   "execution_count": null,
   "id": "cae07603",
   "metadata": {},
   "outputs": [],
   "source": [
    "np.savetxt(\"one_hot_encoded_proteins.csv\", encoded_sequences_flat, delimiter=\",\")"
   ]
  },
  {
   "cell_type": "code",
   "execution_count": null,
   "id": "a28e73dc",
   "metadata": {},
   "outputs": [],
   "source": [
    "encoded=pd.read_csv(\"one_hot_encoded_proteins.csv\")"
   ]
  },
  {
   "cell_type": "code",
   "execution_count": null,
   "id": "0e710360",
   "metadata": {
    "scrolled": true
   },
   "outputs": [],
   "source": [
    "encoded.iloc[:5, : 20]"
   ]
  },
  {
   "cell_type": "code",
   "execution_count": null,
   "id": "684c37f5",
   "metadata": {},
   "outputs": [],
   "source": []
  },
  {
   "cell_type": "code",
   "execution_count": null,
   "id": "7792b418",
   "metadata": {},
   "outputs": [],
   "source": [
    "print(encoded_sequences.shape)  # Should be (num_sequences, 145, 20)"
   ]
  },
  {
   "cell_type": "code",
   "execution_count": null,
   "id": "7e169a2d",
   "metadata": {
    "scrolled": true
   },
   "outputs": [],
   "source": [
    "#!pip install Bio\n",
    "from Bio import SeqIO\n",
    "from Bio.SeqUtils.ProtParam import ProteinAnalysis"
   ]
  },
  {
   "cell_type": "code",
   "execution_count": null,
   "id": "ea4fff1d",
   "metadata": {
    "scrolled": true
   },
   "outputs": [],
   "source": [
    "pd.DataFrame([ProteinAnalysis(i).count_amino_acids() for i in df['Sequence']])"
   ]
  },
  {
   "cell_type": "code",
   "execution_count": null,
   "id": "e05e3790",
   "metadata": {},
   "outputs": [],
   "source": [
    "import seaborn as sns\n",
    "import matplotlib.pyplot as plt"
   ]
  },
  {
   "cell_type": "code",
   "execution_count": null,
   "id": "a25a528a",
   "metadata": {},
   "outputs": [],
   "source": [
    "# Select a small subset of sequences for visualization\n",
    "num_sequences_to_plot = 15  # Adjust for better readability\n",
    "subset_df = encoded.iloc[:num_sequences_to_plot]\n",
    "\n",
    "# Plot heatmap\n",
    "plt.figure(figsize=(15, 6))\n",
    "sns.heatmap(subset_df, cmap=\"viridis\", cbar=True, xticklabels=False, yticklabels=True)\n",
    "\n",
    "plt.xlabel(\"One-Hot Encoded Features (Amino Acid Positions)\")\n",
    "plt.ylabel(\"Protein Sequences\")\n",
    "plt.title(\"Heatmap of One-Hot Encoded Protein Sequences\")\n",
    "plt.savefig('heatmap-one-hot.png')\n",
    "plt.show()\n"
   ]
  }
 ],
 "metadata": {
  "kernelspec": {
   "display_name": "Python 3 (ipykernel)",
   "language": "python",
   "name": "python3"
  },
  "language_info": {
   "codemirror_mode": {
    "name": "ipython",
    "version": 3
   },
   "file_extension": ".py",
   "mimetype": "text/x-python",
   "name": "python",
   "nbconvert_exporter": "python",
   "pygments_lexer": "ipython3",
   "version": "3.9.13"
  }
 },
 "nbformat": 4,
 "nbformat_minor": 5
}
