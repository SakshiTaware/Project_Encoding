{
 "cells": [
  {
   "cell_type": "markdown",
   "id": "35d44c82",
   "metadata": {},
   "source": [
    "## ProtBERT Model\n",
    "\n",
    "Refer doi: 10.1109/TPAMI.2021.3095381 \n",
    "\n",
    "Code Repo: https://huggingface.co/Rostlab/prot_bert\n",
    "\n",
    "Required intallments:\n",
    "\n",
    "!pip install transformers\n",
    "\n",
    "!pip install torch"
   ]
  },
  {
   "cell_type": "code",
   "execution_count": null,
   "id": "48e13de3",
   "metadata": {},
   "outputs": [],
   "source": [
    "from transformers import BertModel, BertTokenizer\n",
    "import re\n",
    "import pandas as pd\n",
    "import torch"
   ]
  },
  {
   "cell_type": "code",
   "execution_count": null,
   "id": "65ce83bd",
   "metadata": {},
   "outputs": [],
   "source": [
    "\n",
    "\n",
    "# Load the ProtBERT model and tokenizer\n",
    "model_name = \"Rostlab/prot_bert\"\n",
    "tokenizer = BertTokenizer.from_pretrained(model_name, do_lower_case=False)\n",
    "model = BertModel.from_pretrained(model_name)\n",
    "\n",
    "# Load a CSV file containing protein sequences\n",
    "csv_file = 'ExampleData.csv'  # Replace with your CSV file path\n",
    "sequences_df = pd.read_csv(csv_file)\n",
    "\n",
    "# Assuming the CSV has a column named 'sequence' with the protein sequences\n",
    "sequences = sequences_df['Sequence'].tolist()\n",
    "\n",
    "# Preprocess sequences: Replace non-standard amino acids with 'X'\n",
    "processed_sequences = [re.sub(r'[UZOB]', 'X', seq) for seq in sequences]\n",
    "\n",
    "# Generate embeddings for each sequence\n",
    "embeddings = []\n",
    "for sequence in processed_sequences:\n",
    "    encoded_input = tokenizer(\" \".join(sequence), return_tensors='pt')\n",
    "    with torch.no_grad():\n",
    "        output = model(**encoded_input)\n",
    "        embeddings.append(output.last_hidden_state.mean(dim=1).squeeze().numpy())\n",
    "\n",
    "# Create a DataFrame with the embeddings\n",
    "embedding_df = pd.DataFrame(embeddings)\n",
    "\n",
    "# Save the embeddings to a CSV file\n",
    "embedding_df.to_csv('protein_embeddings.csv', index=False)\n",
    "\n",
    "print('Protein embeddings saved to protein_embeddings.csv.')\n"
   ]
  },
  {
   "cell_type": "code",
   "execution_count": null,
   "id": "2b959ef9",
   "metadata": {},
   "outputs": [],
   "source": [
    "encoded_df=pd.read_csv(\"protein_embeddings.csv\")"
   ]
  },
  {
   "cell_type": "code",
   "execution_count": null,
   "id": "3c7af3a2",
   "metadata": {
    "scrolled": true
   },
   "outputs": [],
   "source": [
    "encoded_df"
   ]
  },
  {
   "cell_type": "code",
   "execution_count": null,
   "id": "634482ac",
   "metadata": {},
   "outputs": [],
   "source": [
    "from sklearn.metrics.pairwise import cosine_similarity\n",
    "\n",
    "# Example: Compare embeddings of wild-type and mutant sequences\n",
    "wild_type_embedding = embeddings[0]  # Example wild-type\n",
    "mutant_embedding = embeddings[2]     # Example mutant\n",
    "\n",
    "similarity = cosine_similarity([wild_type_embedding], [mutant_embedding])\n",
    "print(f\"Cosine similarity between wild-type and mutant: {similarity[0][0]}\")\n"
   ]
  },
  {
   "cell_type": "code",
   "execution_count": null,
   "id": "dbacfd55",
   "metadata": {},
   "outputs": [],
   "source": [
    "from sklearn.metrics.pairwise import cosine_similarity\n",
    "import numpy as np"
   ]
  },
  {
   "cell_type": "code",
   "execution_count": null,
   "id": "e1435b6d",
   "metadata": {},
   "outputs": [],
   "source": [
    "\n",
    "\n",
    "# Calculate cosine similarity between the wild-type (first sequence) and all other sequences\n",
    "wild_type_embedding = embeddings[0]\n",
    "similarity_scores = cosine_similarity([wild_type_embedding], embeddings)[0]\n",
    "\n",
    "# Exclude the self-similarity of the wild-type by masking the first index\n",
    "masked_similarity_scores = np.copy(similarity_scores)\n",
    "masked_similarity_scores[0] = np.nan\n",
    "\n",
    "# Find the indices of the most and least similar sequences to the wild-type\n",
    "most_similar_index = np.nanargmax(masked_similarity_scores)\n",
    "least_similar_index = np.nanargmin(masked_similarity_scores)\n",
    "\n",
    "# Get the similarity values\n",
    "most_similar_value = similarity_scores[most_similar_index]\n",
    "least_similar_value = similarity_scores[least_similar_index]\n",
    "\n",
    "print(f\"Most similar sequence to the wild-type: Index {most_similar_index} with similarity {most_similar_value}\")\n",
    "print(f\"Least similar sequence to the wild-type: Index {least_similar_index} with similarity {least_similar_value}\")\n"
   ]
  }
 ],
 "metadata": {
  "kernelspec": {
   "display_name": "Python 3 (ipykernel)",
   "language": "python",
   "name": "python3"
  },
  "language_info": {
   "codemirror_mode": {
    "name": "ipython",
    "version": 3
   },
   "file_extension": ".py",
   "mimetype": "text/x-python",
   "name": "python",
   "nbconvert_exporter": "python",
   "pygments_lexer": "ipython3",
   "version": "3.9.13"
  }
 },
 "nbformat": 4,
 "nbformat_minor": 5
}
