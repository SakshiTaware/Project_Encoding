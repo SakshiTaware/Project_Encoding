{
 "cells": [
  {
   "cell_type": "markdown",
   "id": "1415d0bf",
   "metadata": {},
   "source": [
    "## PSSM Position Specific Scoring Matrix\n",
    "\n",
    "Refer: https://www.nature.com/articles/srep46237"
   ]
  },
  {
   "cell_type": "code",
   "execution_count": null,
   "id": "a71244e6",
   "metadata": {},
   "outputs": [],
   "source": [
    "import pandas as pd\n",
    "import numpy as np"
   ]
  },
  {
   "cell_type": "code",
   "execution_count": null,
   "id": "44bea295",
   "metadata": {},
   "outputs": [],
   "source": [
    "import matplotlib.pyplot as plt\n",
    "import seaborn as sns\n",
    "from scipy.stats import entropy"
   ]
  },
  {
   "cell_type": "code",
   "execution_count": null,
   "id": "5f2502e8",
   "metadata": {},
   "outputs": [],
   "source": [
    "import matplotlib.pyplot as plt"
   ]
  },
  {
   "cell_type": "code",
   "execution_count": null,
   "id": "b2036953",
   "metadata": {},
   "outputs": [],
   "source": [
    "sequences_df = pd.read_csv(\"ExampleData.csv\")"
   ]
  },
  {
   "cell_type": "code",
   "execution_count": null,
   "id": "e5a9f756",
   "metadata": {},
   "outputs": [],
   "source": [
    "sequences = sequences_df['Sequence'].tolist()"
   ]
  },
  {
   "cell_type": "code",
   "execution_count": null,
   "id": "cce5f3d4",
   "metadata": {},
   "outputs": [],
   "source": [
    "amino_acids = 'ACDEFGHIKLMNPQRSTVWY'"
   ]
  },
  {
   "cell_type": "code",
   "execution_count": null,
   "id": "6975b9b4",
   "metadata": {},
   "outputs": [],
   "source": [
    "sequence_length = max(len(seq) for seq in sequences)\n",
    "pssm = np.zeros((len(amino_acids), sequence_length))"
   ]
  },
  {
   "cell_type": "code",
   "execution_count": null,
   "id": "35bf9f08",
   "metadata": {},
   "outputs": [],
   "source": [
    "for i, aa in enumerate(amino_acids):\n",
    "    for j in range(sequence_length):\n",
    "        column = [seq[j] if j < len(seq) else '-' for seq in sequences]\n",
    "        pssm[i, j] = column.count(aa) / len(column)\n",
    "\n",
    "# Convert PSSM to a pandas DataFrame for better visualization\n",
    "pssm_df = pd.DataFrame(pssm, index=list(amino_acids))"
   ]
  },
  {
   "cell_type": "code",
   "execution_count": null,
   "id": "f18b4309",
   "metadata": {},
   "outputs": [],
   "source": [
    "print(pssm_df)\n",
    "pssm_df.to_csv('PSSM_Matrix.csv', index=True)"
   ]
  },
  {
   "cell_type": "code",
   "execution_count": null,
   "id": "83f77269",
   "metadata": {},
   "outputs": [],
   "source": [
    "# Calculate entropy for each position\n",
    "position_entropies = pssm_df.apply(lambda col: entropy(col, base=2), axis=0)"
   ]
  },
  {
   "cell_type": "code",
   "execution_count": null,
   "id": "cccf74a6",
   "metadata": {},
   "outputs": [],
   "source": [
    "# Visualization of the PSSM heatmap\n",
    "plt.figure(figsize=(15, 8))\n",
    "sns.heatmap(pssm_df, cmap='viridis', cbar=True, xticklabels=10, yticklabels=True)\n",
    "plt.xlabel('Position in Sequence')\n",
    "plt.ylabel('Amino Acid')\n",
    "plt.title('Position Specific Scoring Matrix (PSSM) Heatmap')\n",
    "plt.tight_layout()\n",
    "plt.savefig(\"psm_matrix.png\")\n",
    "plt.show()"
   ]
  },
  {
   "cell_type": "code",
   "execution_count": null,
   "id": "8656d99e",
   "metadata": {},
   "outputs": [],
   "source": [
    "# Visualization of entropy across sequence positions\n",
    "plt.figure(figsize=(10, 6))\n",
    "plt.plot(position_entropies, marker='o')\n",
    "plt.xlabel('Position in Sequence')\n",
    "plt.ylabel('Entropy')\n",
    "plt.title('Entropy of Amino Acid Frequencies at Each Position')\n",
    "plt.grid(True)\n",
    "plt.tight_layout()\n",
    "plt.show()"
   ]
  },
  {
   "cell_type": "markdown",
   "id": "944ec222",
   "metadata": {},
   "source": [
    "### Explanation of the above graph (from chatgpt)\n",
    "\n",
    "#### High Entropy Regions:\n",
    "\n",
    "Peaks in the graph indicate high entropy, which means high variability in amino acid choices at those positions.\n",
    "These positions are less conserved, suggesting that mutations are tolerated without severely impacting protein function.\n",
    "Ideal targets for mutagenesis in directed evolution experiments, as introducing changes here might lead to novel or improved functions.\n",
    "\n",
    "DE: Use saturation mutagenesis or random mutagenesis to explore new functionalities.\n",
    "\n",
    "#### Low Entropy Regions:\n",
    "\n",
    "Troughs or regions with near-zero entropy indicate highly conserved positions.\n",
    "These positions are functionally or structurally critical, and mutations here might disrupt protein stability or function.\n",
    "Typically, these are avoided in protein engineering unless the goal is to explore stability enhancements or fine-tuning.\n",
    "\n",
    "DE: Apply conservative mutations or avoid changes unless specifically targeting protein stability or specific structural features.\n",
    "\n",
    "#### Flat Regions with Zero Entropy:\n",
    "\n",
    "If the graph shows a flat line at zero, it means that only one amino acid is present at these positions in all sequences.\n",
    "Such conserved motifs often correlate with active sites or binding domains crucial for the protein’s activity."
   ]
  },
  {
   "cell_type": "code",
   "execution_count": null,
   "id": "7e2d5c51",
   "metadata": {},
   "outputs": [],
   "source": []
  }
 ],
 "metadata": {
  "kernelspec": {
   "display_name": "Python 3 (ipykernel)",
   "language": "python",
   "name": "python3"
  },
  "language_info": {
   "codemirror_mode": {
    "name": "ipython",
    "version": 3
   },
   "file_extension": ".py",
   "mimetype": "text/x-python",
   "name": "python",
   "nbconvert_exporter": "python",
   "pygments_lexer": "ipython3",
   "version": "3.9.13"
  }
 },
 "nbformat": 4,
 "nbformat_minor": 5
}
