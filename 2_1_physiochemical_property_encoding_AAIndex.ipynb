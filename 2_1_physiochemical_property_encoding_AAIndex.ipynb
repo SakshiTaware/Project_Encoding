{
 "cells": [
  {
   "cell_type": "markdown",
   "id": "6e22958d",
   "metadata": {},
   "source": [
    "## Physiochemical Property Based Encoding: AAIndex\n",
    "\n",
    "Refer to paper: https://doi.org/10.1093/nar/28.1.374\n",
    "\n",
    "Refer to github: https://github.com/amckenna41/aaindex?tab=readme-ov-file\n",
    "\n",
    "Description of all the properties: https://www.genome.jp/aaindex/AAindex/list_of_indices\n",
    "\n",
    "to install aaindex: !pip3 install aaindex --upgrade\n"
   ]
  },
  {
   "cell_type": "code",
   "execution_count": null,
   "id": "fe731946",
   "metadata": {
    "scrolled": true
   },
   "outputs": [],
   "source": [
    "from aaindex import aaindex1\n",
    "import pandas as pd\n",
    "import numpy as np\n",
    "from sklearn.decomposition import PCA\n",
    "import matplotlib.pyplot as plt\n",
    "from mpl_toolkits.mplot3d import Axes3D"
   ]
  },
  {
   "cell_type": "code",
   "execution_count": null,
   "id": "8f30e8a3",
   "metadata": {
    "scrolled": true
   },
   "outputs": [],
   "source": [
    "# Load protein sequence dataset\n",
    "protein_sequences_file = 'ExampleData.csv'  # Replace with your CSV file path\n",
    "sequences_df = pd.read_csv(protein_sequences_file)\n",
    "\n",
    "sequences = sequences_df['Sequence'].tolist()\n",
    "\n",
    "# Defining the selected properties\n",
    "selected_properties = ['CIDH920105', 'KYTJ820101', 'CHOP780201', 'GRAR740102', 'HOPT810101', 'ZIMJ680104', 'KARS160118', 'BUNA790103']\n",
    "\n",
    "# Extracting the selected properties from AAindex1\n",
    "aa_properties = {}\n",
    "for prop in selected_properties:\n",
    "    if prop in aaindex1.record_codes():\n",
    "        aa_properties[prop] = aaindex1[prop].values\n",
    "\n",
    "# Generating feature vectors for each protein sequence\n",
    "\n",
    "encoded_features = []\n",
    "for sequence in sequences:\n",
    "    sequence_features = []\n",
    "    for prop, prop_values in aa_properties.items():\n",
    "        prop_vector = [prop_values.get(aa, 0) for aa in sequence]\n",
    "        sequence_features.append(np.mean(prop_vector))  # Use mean of property values as feature\n",
    "    encoded_features.append(sequence_features)"
   ]
  },
  {
   "cell_type": "code",
   "execution_count": null,
   "id": "4a9efd7c",
   "metadata": {},
   "outputs": [],
   "source": [
    "# to save sequences with features\n",
    "\n",
    "feature_columns = [f\"{prop}_mean\" for prop in aa_properties.keys()]\n",
    "encoded_df = pd.DataFrame(encoded_features, columns=feature_columns)\n",
    "\n",
    "# Add the sequences to the DataFrame\n",
    "encoded_df['sequence'] = sequences\n",
    "\n",
    "# to keep 'sequence' as the first column\n",
    "encoded_df = encoded_df[['sequence'] + feature_columns]\n",
    "\n",
    "encoded_df.to_csv(\"aaindex_encoded.csv\", index=False)"
   ]
  },
  {
   "cell_type": "code",
   "execution_count": null,
   "id": "ed3ba885",
   "metadata": {},
   "outputs": [],
   "source": [
    "encoded_df"
   ]
  },
  {
   "cell_type": "code",
   "execution_count": null,
   "id": "66622a72",
   "metadata": {},
   "outputs": [],
   "source": [
    "# Performing PCA \n",
    "pca = PCA(n_components=3)\n",
    "pca_features = pca.fit_transform(encoded_features)\n",
    "\n",
    "# DataFrame for PCA results\n",
    "pca_df = pd.DataFrame(pca_features, columns=['PC1', 'PC2', 'PC3'])\n",
    "\n",
    "#pca_df['PC1_norm'] = (pca_df['PC1'] - pca_df['PC1'].min()) / (pca_df['PC1'].max() - pca_df['PC1'].min())\n",
    "\n",
    "fig = plt.figure(figsize=(10, 8))\n",
    "ax = fig.add_subplot(111, projection='3d')\n",
    "\n",
    "# Scatter plot in 3D for PC1, PC2, and PC3\n",
    "sc = ax.scatter(pca_df['PC1'], pca_df['PC2'], pca_df['PC3'],  c=pca_df['PC3'], alpha=0.8, cmap='viridis')\n",
    "\n",
    "ax.set_xlabel('Principal Component 1')\n",
    "ax.set_ylabel('Principal Component 2')\n",
    "ax.set_zlabel('Principal Component 3')\n",
    "ax.set_title('3D PCA Scatter Plot of AAindex1 Properties')\n",
    "\n",
    "plt.colorbar(sc, label='PCA Component Value')\n",
    "\n",
    "plt.savefig(\"visualized-pca.png\")\n",
    "plt.show()\n",
    "\n",
    "\n",
    "pca_df.to_csv('PCA_AAindex_Properties.csv', index=False)"
   ]
  },
  {
   "cell_type": "code",
   "execution_count": null,
   "id": "099e6ef3",
   "metadata": {
    "scrolled": true
   },
   "outputs": [],
   "source": [
    "pca_df"
   ]
  },
  {
   "cell_type": "code",
   "execution_count": null,
   "id": "cc5bb976",
   "metadata": {},
   "outputs": [],
   "source": [
    "import seaborn as sns"
   ]
  },
  {
   "cell_type": "code",
   "execution_count": null,
   "id": "c13f8948",
   "metadata": {},
   "outputs": [],
   "source": [
    "# Get the PCA components and the selected properties\n",
    "pca_components = pca.components_\n",
    "\n",
    "# Create a DataFrame to visualize property contributions to each principal component\n",
    "pca_loadings = pd.DataFrame(pca_components, columns=selected_properties, index=['PC1', 'PC2', 'PC3'])\n",
    "\n",
    "print(\"PCA Loadings (Property contributions to each component):\")\n",
    "print(pca_loadings)\n"
   ]
  },
  {
   "cell_type": "code",
   "execution_count": null,
   "id": "f51a17a2",
   "metadata": {
    "scrolled": true
   },
   "outputs": [],
   "source": [
    "plt.figure(figsize=(8, 6))\n",
    "sns.heatmap(pca_loadings, cmap='coolwarm', annot=True)\n",
    "plt.title('PCA Loadings: Contribution of AAindex1 Properties to Principal Components')\n",
    "plt.xlabel('Amino Acid Properties')\n",
    "plt.ylabel('Principal Components')\n",
    "plt.savefig(\"aaindex-pca-comp.png\", bbox_inches = 'tight')\n",
    "plt.show()\n"
   ]
  },
  {
   "cell_type": "code",
   "execution_count": null,
   "id": "365af4e6",
   "metadata": {
    "scrolled": true
   },
   "outputs": [],
   "source": [
    "# Plot explained variance to choose components\n",
    "explained_variance = pca.explained_variance_ratio_\n",
    "\n",
    "plt.plot(range(1, len(explained_variance) + 1), np.cumsum(explained_variance), marker='o')\n",
    "plt.xlabel('Number of Components')\n",
    "plt.ylabel('Cumulative Explained Variance')\n",
    "plt.title('PCA Explained Variance')\n",
    "plt.grid(True)\n",
    "plt.show()\n"
   ]
  },
  {
   "cell_type": "code",
   "execution_count": null,
   "id": "214e4e31",
   "metadata": {},
   "outputs": [],
   "source": [
    "# IGNORE here onwards!\n",
    "# trial from the aanindex github\n",
    "\n",
    "full_record = aaindex1['CHOP780206']   #get full AAI record\n",
    "''' full_record ->\n",
    "{'category': 'sec_struct', 'correlation_coefficients': {}, \n",
    "'description': 'Normalized frequency of N-terminal non helical region (Chou-Fasman, 1978b)', 'notes': '', 'pmid': '364941', \n",
    "'references': \"Chou, P.Y. and Fasman, G.D. 'Prediction of the secondary structure of proteins from their amino acid sequence' Adv. Enzymol. 47, 45-148 (1978)\", 'values': {'-': 0, 'A': 0.7, 'C': 0.65, 'D': 0.98, 'E': 1.04, 'F': 0.93, 'G': 1.41, 'H': 1.22, 'I': 0.78, 'K': 1.01, 'L': 0.85, 'M': 0.83, 'N': 1.42, 'P': 1.1, 'Q': 0.75, 'R': 0.34, 'S': 1.55, 'T': 1.09, 'V': 0.75, 'W': 0.62, 'Y': 0.99}}\n",
    "'''\n",
    "\n",
    "#get individual elements of AAindex record\n",
    "record_values = aaindex1['CHOP780206']['values'] \n",
    "record_values = aaindex1['CHOP780206'].values"
   ]
  },
  {
   "cell_type": "code",
   "execution_count": null,
   "id": "cdfb9c07",
   "metadata": {},
   "outputs": [],
   "source": [
    "record_values"
   ]
  },
  {
   "cell_type": "code",
   "execution_count": null,
   "id": "9adfabee",
   "metadata": {},
   "outputs": [],
   "source": [
    "# to get description of a property\n",
    "\n",
    "record_description = aaindex1['CHOP780206']['description']\n",
    "record_description = aaindex1['CHOP780206'].description\n",
    "#'description': 'Normalized frequency of N-terminal non helical region (Chou-Fasman, 1978b)'\n",
    "\n",
    "record_description"
   ]
  },
  {
   "cell_type": "code",
   "execution_count": null,
   "id": "d104fcb0",
   "metadata": {},
   "outputs": [],
   "source": [
    "aaindex1.num_records()"
   ]
  },
  {
   "cell_type": "code",
   "execution_count": null,
   "id": "a64f2f74",
   "metadata": {},
   "outputs": [],
   "source": [
    "from aaindex import aaindex2"
   ]
  },
  {
   "cell_type": "code",
   "execution_count": null,
   "id": "25fb6bf6",
   "metadata": {
    "scrolled": false
   },
   "outputs": [],
   "source": [
    "full_record = aaindex2['CHOP780206']"
   ]
  },
  {
   "cell_type": "code",
   "execution_count": null,
   "id": "eaa39495",
   "metadata": {},
   "outputs": [],
   "source": [
    "# Load AAIndex properties\n",
    "aaindex = pyAAindex.load_aaindex()\n",
    "\n",
    "# List all available AAIndex properties\n",
    "available_properties = list(aaindex.keys())\n",
    "\n",
    "# Print total number of properties and the first 10 as an example\n",
    "print(f\"Total AAIndex properties available: {len(available_properties)}\")\n",
    "print(\"First 10 properties:\", available_properties[:10])\n"
   ]
  },
  {
   "cell_type": "code",
   "execution_count": null,
   "id": "faa6f507",
   "metadata": {},
   "outputs": [],
   "source": []
  }
 ],
 "metadata": {
  "kernelspec": {
   "display_name": "Python 3 (ipykernel)",
   "language": "python",
   "name": "python3"
  },
  "language_info": {
   "codemirror_mode": {
    "name": "ipython",
    "version": 3
   },
   "file_extension": ".py",
   "mimetype": "text/x-python",
   "name": "python",
   "nbconvert_exporter": "python",
   "pygments_lexer": "ipython3",
   "version": "3.9.13"
  }
 },
 "nbformat": 4,
 "nbformat_minor": 5
}
