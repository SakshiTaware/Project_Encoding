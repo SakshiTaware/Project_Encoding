{
 "cells": [
  {
   "cell_type": "markdown",
   "id": "c5b390b7",
   "metadata": {},
   "source": [
    "## Physiochemical Property Based Encoding: BLOSUM\n",
    "\n",
    "Refer to: https://github.com/not-a-feature/blosum\n",
    "To install blosum: pip install blosum"
   ]
  },
  {
   "cell_type": "code",
   "execution_count": null,
   "id": "88681083",
   "metadata": {},
   "outputs": [],
   "source": [
    "import numpy as np\n",
    "import pandas as pd"
   ]
  },
  {
   "cell_type": "code",
   "execution_count": null,
   "id": "0116b112",
   "metadata": {},
   "outputs": [],
   "source": [
    "import blosum as bl\n",
    "blosum62 = bl.BLOSUM(62)"
   ]
  },
  {
   "cell_type": "code",
   "execution_count": null,
   "id": "88aff273",
   "metadata": {},
   "outputs": [],
   "source": [
    "#test the matrix\n",
    "val = blosum62[\"A\"][\"Y\"]\n",
    "val"
   ]
  },
  {
   "cell_type": "code",
   "execution_count": null,
   "id": "e4b5ef06",
   "metadata": {},
   "outputs": [],
   "source": [
    "def encode_sequence_blosum(sequence, matrix):\n",
    "    \"\"\"\n",
    "    Encode a protein sequence using pre-assigned BLOSUM62 scores.\n",
    "    \n",
    "    Parameters:\n",
    "        sequence (str): Protein sequence\n",
    "        matrix (dict): BLOSUM substitution matrix (Biopython)\n",
    "    \n",
    "    Returns:\n",
    "        np.array: Encoded sequence vector\n",
    "    \"\"\"\n",
    "    encoding = []\n",
    "    for aa in sequence:\n",
    "        if (aa, aa) in matrix:  # Self-substitution score\n",
    "            encoding.append(matrix[(aa, aa)])\n",
    "        else:\n",
    "            encoding.append(0)  # Default score for unknown amino acids\n",
    "    \n",
    "    return np.array(encoding)\n",
    "\n",
    "# Example sequence\n",
    "sequence = \"ACDE\"\n",
    "\n",
    "# Encode using BLOSUM62\n",
    "encoded_sequence = encode_sequence_blosum(sequence, blosum62)\n",
    "\n",
    "print(\"Encoded Sequence:\", encoded_sequence)\n"
   ]
  },
  {
   "cell_type": "code",
   "execution_count": null,
   "id": "83921e65",
   "metadata": {},
   "outputs": [],
   "source": [
    "df = pd.read_csv(\"ExampleData.csv\")\n",
    "\n",
    "# Apply BLOSUM encoding to all sequences\n",
    "df[\"encoded_sequence\"] = df[\"Sequence\"].apply(lambda seq: encode_sequence_blosum(seq, blosum62))\n",
    "\n",
    "# Convert to NumPy array for ML models\n",
    "X = np.array(df[\"encoded_sequence\"].tolist())\n",
    "\n",
    "print(\"Encoded dataset shape:\", X.shape)  # (num_sequences, sequence_length)\n",
    "\n",
    "df[\"Sequence\"] = df[\"Sequence\"].astype(str).apply(lambda x: x.replace(\"\\x00\", \"\").strip())\n",
    "\n",
    "# Apply BLOSUM62 encoding to all sequences\n",
    "df[\"encoded_sequence\"] = df[\"Sequence\"].apply(lambda seq: encode_sequence_blosum(seq, blosum62))\n",
    "\n",
    "# Save encoded sequences as a new dataset\n",
    "output_file = \"blosum_encoded_dataset.csv\"\n",
    "df.to_csv(output_file, index=False)\n"
   ]
  },
  {
   "cell_type": "code",
   "execution_count": null,
   "id": "be7452b9",
   "metadata": {
    "scrolled": true
   },
   "outputs": [],
   "source": [
    "# Define valid amino acids in BLOSUM62\n",
    "VALID_AA = set(\"ACDEFGHIKLMNPQRSTVWY\")\n",
    "\n",
    "# Remove sequences with unknown amino acids\n",
    "df = df[df[\"Sequence\"].apply(lambda seq: all(aa in VALID_AA for aa in seq))]\n",
    "\n",
    "print(\"Filtered dataset shape:\", df.shape)\n"
   ]
  },
  {
   "cell_type": "code",
   "execution_count": null,
   "id": "aaefaa29",
   "metadata": {},
   "outputs": [],
   "source": [
    "import pandas as pd\n",
    "\n",
    "# Load dataset\n",
    "df = pd.read_csv(\"ExampleData.csv\")\n",
    "\n",
    "# Apply BLOSUM62 encoding\n",
    "df[\"encoded_sequence\"] = df[\"Sequence\"].apply(lambda seq: encode_sequence_blosum(seq, blosum62))\n",
    "\n",
    "# Save encoded dataset\n",
    "df.to_csv(\"blosum_encoded_fixed.csv\", index=False)\n"
   ]
  },
  {
   "cell_type": "code",
   "execution_count": null,
   "id": "b903a14c",
   "metadata": {},
   "outputs": [],
   "source": [
    "df2=pd.read_csv(\"blosum_encoded_fixed.csv\")\n",
    "df2"
   ]
  },
  {
   "cell_type": "code",
   "execution_count": null,
   "id": "0cebdbb2",
   "metadata": {},
   "outputs": [],
   "source": [
    "import matplotlib.pyplot as plt\n",
    "\n",
    "# Compute average BLOSUM score per sequence\n",
    "df[\"avg_blosum\"] = df[\"encoded_sequence\"].apply(lambda x: np.mean(x))\n",
    "\n",
    "# Plot histogram of average BLOSUM scores\n",
    "plt.figure(figsize=(8, 5))\n",
    "plt.hist(df[\"avg_blosum\"], bins=30, color=\"blue\", alpha=0.7)\n",
    "plt.xlabel(\"Average BLOSUM Score\")\n",
    "plt.ylabel(\"Number of Sequences\")\n",
    "plt.title(\"Distribution of Average BLOSUM Encoded Sequence Scores\")\n",
    "plt.show()\n"
   ]
  },
  {
   "cell_type": "code",
   "execution_count": null,
   "id": "fc5f1e02",
   "metadata": {},
   "outputs": [],
   "source": [
    "import seaborn as sns\n",
    "import matplotlib.pyplot as plt\n"
   ]
  },
  {
   "cell_type": "code",
   "execution_count": null,
   "id": "0c25fc76",
   "metadata": {
    "scrolled": true
   },
   "outputs": [],
   "source": [
    "# Convert sequences into a matrix for visualization\n",
    "blosum_matrix = np.array(df[\"encoded_sequence\"].tolist())\n",
    "\n",
    "# Plot heatmap\n",
    "plt.figure(figsize=(12, 6))\n",
    "sns.heatmap(blosum_matrix, cmap=\"viridis\", cbar=True, xticklabels=False, yticklabels=False)\n",
    "\n",
    "plt.xlabel(\"Amino Acid Position\")\n",
    "plt.ylabel(\"Protein Sequences\")\n",
    "plt.title(\"BLOSUM62 Encoded Protein Sequences - Heatmap\")\n",
    "plt.show()"
   ]
  }
 ],
 "metadata": {
  "kernelspec": {
   "display_name": "Python 3 (ipykernel)",
   "language": "python",
   "name": "python3"
  },
  "language_info": {
   "codemirror_mode": {
    "name": "ipython",
    "version": 3
   },
   "file_extension": ".py",
   "mimetype": "text/x-python",
   "name": "python",
   "nbconvert_exporter": "python",
   "pygments_lexer": "ipython3",
   "version": "3.9.13"
  }
 },
 "nbformat": 4,
 "nbformat_minor": 5
}
