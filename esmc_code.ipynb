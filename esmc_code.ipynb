{
 "cells": [
  {
   "cell_type": "markdown",
   "metadata": {},
   "source": [
    "In this notebook we will see how to embed a batch of sequences using ESM C, as well as explore its different layers"
   ]
  },
  {
   "cell_type": "markdown",
   "metadata": {},
   "source": [
    "# Set up Forge client for ESM C"
   ]
  },
  {
   "cell_type": "markdown",
   "metadata": {},
   "source": [
    "Grab a token from [the Forge console](https://forge.evolutionaryscale.ai/console) and add it below. Note that your token is like a password for your account and you should take care to protect it. For this reason it is recommended to frequently create a new token and delete old, unused ones. It is also recommended to paste the token directly into an environment variable or use a utility like `getpass` as shown below so tokens are not accidentally shared or checked into code repositories."
   ]
  },
  {
   "cell_type": "code",
   "execution_count": null,
   "metadata": {},
   "outputs": [],
   "source": [
    "pip install --upgrade python"
   ]
  },
  {
   "cell_type": "code",
   "execution_count": null,
   "metadata": {},
   "outputs": [],
   "source": [
    "!python3 --version"
   ]
  },
  {
   "cell_type": "code",
   "execution_count": null,
   "metadata": {},
   "outputs": [],
   "source": [
    "pip install --upgrade pip"
   ]
  },
  {
   "cell_type": "code",
   "execution_count": null,
   "metadata": {},
   "outputs": [],
   "source": [
    "# Install esm and other dependencies\n",
    "! pip install esm\n",
    "! pip install matplotlib"
   ]
  },
  {
   "cell_type": "code",
   "execution_count": 2,
   "metadata": {},
   "outputs": [
    {
     "name": "stdout",
     "output_type": "stream",
     "text": [
      "Token from Forge console: ········\n"
     ]
    }
   ],
   "source": [
    "from getpass import getpass\n",
    "\n",
    "token = getpass(\"Token from Forge console: \")"
   ]
  },
  {
   "cell_type": "code",
   "execution_count": 3,
   "metadata": {},
   "outputs": [],
   "source": [
    "\n",
    "from esm.sdk import client\n",
    "\n",
    "model = client(\n",
    "    model=\"esmc-600m-2024-12\", url=\"https://forge.evolutionaryscale.ai\", token=token\n",
    ")"
   ]
  },
  {
   "cell_type": "markdown",
   "metadata": {},
   "source": [
    "# Set up utilities for embedding sequences\n",
    "\n",
    "Since we're embedding more than a few sequences, we're going to use a threaded async call to Forge and let Forge take care of batching and parallelization on the backend."
   ]
  },
  {
   "cell_type": "code",
   "execution_count": 4,
   "metadata": {},
   "outputs": [],
   "source": [
    "from concurrent.futures import ThreadPoolExecutor\n",
    "from typing import Sequence\n",
    "\n",
    "from esm.sdk.api import (\n",
    "    ESM3InferenceClient,\n",
    "    ESMProtein,\n",
    "    ESMProteinError,\n",
    "    LogitsConfig,\n",
    "    LogitsOutput,\n",
    "    ProteinType,\n",
    ")\n",
    "\n",
    "EMBEDDING_CONFIG = LogitsConfig(\n",
    "    sequence=True, return_embeddings=True, return_hidden_states=True\n",
    ")\n",
    "\n",
    "\n",
    "def embed_sequence(model: ESM3InferenceClient, sequence: str) -> LogitsOutput:\n",
    "    protein = ESMProtein(sequence=sequence)\n",
    "    protein_tensor = model.encode(protein)\n",
    "    output = model.logits(protein_tensor, EMBEDDING_CONFIG)\n",
    "    return output\n",
    "\n",
    "\n",
    "def batch_embed(\n",
    "    model: ESM3InferenceClient, inputs: Sequence[ProteinType]\n",
    ") -> Sequence[LogitsOutput]:\n",
    "    \"\"\"Forge supports auto-batching. So batch_embed() is as simple as running a collection\n",
    "    of embed calls in parallel using asyncio.\n",
    "    \"\"\"\n",
    "    with ThreadPoolExecutor() as executor:\n",
    "        futures = [\n",
    "            executor.submit(embed_sequence, model, protein) for protein in inputs\n",
    "        ]\n",
    "        results = []\n",
    "        for future in futures:\n",
    "            try:\n",
    "                results.append(future.result())\n",
    "            except Exception as e:\n",
    "                results.append(ESMProteinError(500, str(e)))\n",
    "    return results"
   ]
  },
  {
   "cell_type": "code",
   "execution_count": 42,
   "metadata": {},
   "outputs": [],
   "source": [
    "?ESMProtein"
   ]
  },
  {
   "cell_type": "markdown",
   "metadata": {},
   "source": [
    "# Requesting a specific hidden layer\n",
    "\n",
    "ESM C 6B's hidden states are really large, so we only allow one specific layer to be requested per API call. This also works for other ESM C models, but it is required for ESM C 6B. \n",
    "Refer to https://forge.evolutionaryscale.ai/console to find the number of hidden layers for each model. "
   ]
  },
  {
   "cell_type": "code",
   "execution_count": 5,
   "metadata": {},
   "outputs": [],
   "source": [
    "ESMC_6B_EMBEDDING_CONFIG = LogitsConfig(return_hidden_states=True, ith_hidden_layer=55)"
   ]
  },
  {
   "cell_type": "markdown",
   "metadata": {},
   "source": [
    "# Load dataset"
   ]
  },
  {
   "cell_type": "code",
   "execution_count": 25,
   "metadata": {},
   "outputs": [],
   "source": [
    "import matplotlib.pyplot as plt\n",
    "import pandas as pd\n",
    "import seaborn as sns\n",
    "\n",
    "adk_path = \"ExampleData.csv\"\n",
    "df = pd.read_csv(adk_path)\n",
    "df = df[['sequence', \"Data\"]]"
   ]
  },
  {
   "cell_type": "code",
   "execution_count": 26,
   "metadata": {},
   "outputs": [
    {
     "data": {
      "text/html": [
       "<div>\n",
       "<style scoped>\n",
       "    .dataframe tbody tr th:only-of-type {\n",
       "        vertical-align: middle;\n",
       "    }\n",
       "\n",
       "    .dataframe tbody tr th {\n",
       "        vertical-align: top;\n",
       "    }\n",
       "\n",
       "    .dataframe thead th {\n",
       "        text-align: right;\n",
       "    }\n",
       "</style>\n",
       "<table border=\"1\" class=\"dataframe\">\n",
       "  <thead>\n",
       "    <tr style=\"text-align: right;\">\n",
       "      <th></th>\n",
       "      <th>sequence</th>\n",
       "      <th>Data</th>\n",
       "    </tr>\n",
       "  </thead>\n",
       "  <tbody>\n",
       "    <tr>\n",
       "      <th>0</th>\n",
       "      <td>MAPTLSEQTRQLVRASVPALQKHSVAISATMCRLLFERYPETRSLC...</td>\n",
       "      <td>-0.271</td>\n",
       "    </tr>\n",
       "    <tr>\n",
       "      <th>1</th>\n",
       "      <td>MAPTLSEQTRQLVRASVPALQKHSVAISATMCRLLFERYPETRSLF...</td>\n",
       "      <td>-0.894</td>\n",
       "    </tr>\n",
       "    <tr>\n",
       "      <th>2</th>\n",
       "      <td>MAPTLSEQTRQLVRASVPALQKHSVAISATMCRLLFERYPETRSLF...</td>\n",
       "      <td>-0.453</td>\n",
       "    </tr>\n",
       "    <tr>\n",
       "      <th>3</th>\n",
       "      <td>MAPTLSEQTRQLVRASVPALQKHSVAISATMCRLLFERYPETRSLF...</td>\n",
       "      <td>-0.016</td>\n",
       "    </tr>\n",
       "    <tr>\n",
       "      <th>4</th>\n",
       "      <td>MAPTLSEQTRQLVRASVPALQKHSVAISATMCRLLFERYPETRSLG...</td>\n",
       "      <td>0.066</td>\n",
       "    </tr>\n",
       "    <tr>\n",
       "      <th>...</th>\n",
       "      <td>...</td>\n",
       "      <td>...</td>\n",
       "    </tr>\n",
       "    <tr>\n",
       "      <th>561</th>\n",
       "      <td>MAPTLSEQTRQLVRASVPALQKHSVAISATMYRLLFERYPETRSLN...</td>\n",
       "      <td>-0.791</td>\n",
       "    </tr>\n",
       "    <tr>\n",
       "      <th>562</th>\n",
       "      <td>MAPTLSEQTRQLVRASVPALQKHSVAISATMYRLLFERYPETRSLN...</td>\n",
       "      <td>-0.066</td>\n",
       "    </tr>\n",
       "    <tr>\n",
       "      <th>563</th>\n",
       "      <td>MAPTLSEQTRQLVRASVPALQKHSVAISATMYRLLFERYPETRSLN...</td>\n",
       "      <td>-0.148</td>\n",
       "    </tr>\n",
       "    <tr>\n",
       "      <th>564</th>\n",
       "      <td>MAPTLSEQTRQLVRASVPALQKHSVAISATMYRLLFERYPETRSLN...</td>\n",
       "      <td>-0.398</td>\n",
       "    </tr>\n",
       "    <tr>\n",
       "      <th>565</th>\n",
       "      <td>MAPTLSEQTRQLVRASVPALQKHSVAISATMYRLLFERYPETRSLY...</td>\n",
       "      <td>-0.109</td>\n",
       "    </tr>\n",
       "  </tbody>\n",
       "</table>\n",
       "<p>566 rows × 2 columns</p>\n",
       "</div>"
      ],
      "text/plain": [
       "                                              sequence   Data\n",
       "0    MAPTLSEQTRQLVRASVPALQKHSVAISATMCRLLFERYPETRSLC... -0.271\n",
       "1    MAPTLSEQTRQLVRASVPALQKHSVAISATMCRLLFERYPETRSLF... -0.894\n",
       "2    MAPTLSEQTRQLVRASVPALQKHSVAISATMCRLLFERYPETRSLF... -0.453\n",
       "3    MAPTLSEQTRQLVRASVPALQKHSVAISATMCRLLFERYPETRSLF... -0.016\n",
       "4    MAPTLSEQTRQLVRASVPALQKHSVAISATMCRLLFERYPETRSLG...  0.066\n",
       "..                                                 ...    ...\n",
       "561  MAPTLSEQTRQLVRASVPALQKHSVAISATMYRLLFERYPETRSLN... -0.791\n",
       "562  MAPTLSEQTRQLVRASVPALQKHSVAISATMYRLLFERYPETRSLN... -0.066\n",
       "563  MAPTLSEQTRQLVRASVPALQKHSVAISATMYRLLFERYPETRSLN... -0.148\n",
       "564  MAPTLSEQTRQLVRASVPALQKHSVAISATMYRLLFERYPETRSLN... -0.398\n",
       "565  MAPTLSEQTRQLVRASVPALQKHSVAISATMYRLLFERYPETRSLY... -0.109\n",
       "\n",
       "[566 rows x 2 columns]"
      ]
     },
     "execution_count": 26,
     "metadata": {},
     "output_type": "execute_result"
    }
   ],
   "source": [
    "df"
   ]
  },
  {
   "cell_type": "code",
   "execution_count": 27,
   "metadata": {},
   "outputs": [
    {
     "name": "stdout",
     "output_type": "stream",
     "text": [
      "Retrying... Attempt 1 after 1.0s due to: (502, 'Failure in encode: <html>\\r\\n<head><title>502 Bad Gateway</title></head>\\r\\n<body>\\r\\n<center><h1>502 Bad Gateway</h1></center>\\r\\n</body>\\r\\n</html>\\r\\n')\n",
      "Retrying... Attempt 1 after 1.0s due to: (502, 'Failure in logits: <html>\\r\\n<head><title>502 Bad Gateway</title></head>\\r\\n<body>\\r\\n<center><h1>502 Bad Gateway</h1></center>\\r\\n</body>\\r\\n</html>\\r\\n')\n",
      "Retrying... Attempt 1 after 1.0s due to: (429, 'Failure in encode: {\"status\":\"error\",\"message\":\"You have exceeded your daily credit limit of 10 credits.\"}')\n",
      "Retrying... Attempt 1 after 1.0s due to: (429, 'Failure in encode: {\"status\":\"error\",\"message\":\"You have exceeded your daily credit limit of 10 credits.\"}')Retrying... Attempt 1 after 1.0s due to: (429, 'Failure in encode: {\"status\":\"error\",\"message\":\"You have exceeded your daily credit limit of 10 credits.\"}')\n",
      "\n",
      "Retrying... Attempt 1 after 1.0s due to: (429, 'Failure in encode: {\"status\":\"error\",\"message\":\"You have exceeded your daily credit limit of 10 credits.\"}')\n",
      "Retrying... Attempt 2 after 2.0s due to: (429, 'Failure in encode: {\"status\":\"error\",\"message\":\"You have exceeded your daily credit limit of 10 credits.\"}')\n",
      "Retrying... Attempt 1 after 1.0s due to: (429, 'Failure in encode: {\"status\":\"error\",\"message\":\"You have exceeded your daily credit limit of 10 credits.\"}')\n",
      "Retrying... Attempt 1 after 1.0s due to: (429, 'Failure in encode: {\"status\":\"error\",\"message\":\"You have exceeded your daily credit limit of 10 credits.\"}')\n",
      "Retrying... Attempt 2 after 2.0s due to: (429, 'Failure in encode: {\"status\":\"error\",\"message\":\"You have exceeded your daily credit limit of 10 credits.\"}')\n",
      "Retrying... Attempt 2 after 2.0s due to: (429, 'Failure in encode: {\"status\":\"error\",\"message\":\"You have exceeded your daily credit limit of 10 credits.\"}')\n",
      "Retrying... Attempt 2 after 2.0s due to: (429, 'Failure in encode: {\"status\":\"error\",\"message\":\"You have exceeded your daily credit limit of 10 credits.\"}')\n",
      "Retrying... Attempt 2 after 2.0s due to: (429, 'Failure in encode: {\"status\":\"error\",\"message\":\"You have exceeded your daily credit limit of 10 credits.\"}')\n",
      "Retrying... Attempt 2 after 2.0s due to: (429, 'Failure in encode: {\"status\":\"error\",\"message\":\"You have exceeded your daily credit limit of 10 credits.\"}')\n",
      "Retrying... Attempt 3 after 4.0s due to: (429, 'Failure in encode: {\"status\":\"error\",\"message\":\"You have exceeded your daily credit limit of 10 credits.\"}')\n",
      "Retrying... Attempt 3 after 4.0s due to: (429, 'Failure in encode: {\"status\":\"error\",\"message\":\"You have exceeded your daily credit limit of 10 credits.\"}')\n",
      "Retrying... Attempt 1 after 1.0s due to: (429, 'Failure in encode: {\"status\":\"error\",\"message\":\"You have exceeded your daily credit limit of 10 credits.\"}')\n",
      "Retrying... Attempt 3 after 4.0s due to: (429, 'Failure in encode: {\"status\":\"error\",\"message\":\"You have exceeded your daily credit limit of 10 credits.\"}')\n",
      "Retrying... Attempt 3 after 4.0s due to: (429, 'Failure in encode: {\"status\":\"error\",\"message\":\"You have exceeded your daily credit limit of 10 credits.\"}')\n",
      "Retrying... Attempt 3 after 4.0s due to: (429, 'Failure in encode: {\"status\":\"error\",\"message\":\"You have exceeded your daily credit limit of 10 credits.\"}')Retrying... Attempt 4 after 8.0s due to: (429, 'Failure in encode: {\"status\":\"error\",\"message\":\"You have exceeded your daily credit limit of 10 credits.\"}')\n",
      "Retrying... Attempt 1 after 1.0s due to: (429, 'Failure in encode: {\"status\":\"error\",\"message\":\"You have exceeded your daily credit limit of 10 credits.\"}')\n",
      "\n",
      "Retrying... Attempt 2 after 2.0s due to: (429, 'Failure in encode: {\"status\":\"error\",\"message\":\"You have exceeded your daily credit limit of 10 credits.\"}')\n",
      "Retrying... Attempt 1 after 1.0s due to: (429, 'Failure in encode: {\"status\":\"error\",\"message\":\"You have exceeded your daily credit limit of 10 credits.\"}')\n",
      "Retrying... Attempt 3 after 4.0s due to: (429, 'Failure in encode: {\"status\":\"error\",\"message\":\"You have exceeded your daily credit limit of 10 credits.\"}')\n",
      "Retrying... Attempt 4 after 8.0s due to: (429, 'Failure in encode: {\"status\":\"error\",\"message\":\"You have exceeded your daily credit limit of 10 credits.\"}')Retrying... Attempt 4 after 8.0s due to: (429, 'Failure in encode: {\"status\":\"error\",\"message\":\"You have exceeded your daily credit limit of 10 credits.\"}')\n",
      "Retrying... Attempt 1 after 1.0s due to: (429, 'Failure in encode: {\"status\":\"error\",\"message\":\"You have exceeded your daily credit limit of 10 credits.\"}')\n",
      "\n",
      "Retrying... Attempt 2 after 2.0s due to: (429, 'Failure in encode: {\"status\":\"error\",\"message\":\"You have exceeded your daily credit limit of 10 credits.\"}')\n",
      "Retrying... Attempt 1 after 1.0s due to: (429, 'Failure in encode: {\"status\":\"error\",\"message\":\"You have exceeded your daily credit limit of 10 credits.\"}')\n",
      "Retrying... Attempt 4 after 8.0s due to: (429, 'Failure in encode: {\"status\":\"error\",\"message\":\"You have exceeded your daily credit limit of 10 credits.\"}')\n",
      "Retrying... Attempt 2 after 2.0s due to: (429, 'Failure in encode: {\"status\":\"error\",\"message\":\"You have exceeded your daily credit limit of 10 credits.\"}')\n",
      "Retrying... Attempt 3 after 4.0s due to: (429, 'Failure in encode: {\"status\":\"error\",\"message\":\"You have exceeded your daily credit limit of 10 credits.\"}')\n",
      "Retrying... Attempt 1 after 1.0s due to: (429, 'Failure in encode: {\"status\":\"error\",\"message\":\"You have exceeded your daily credit limit of 10 credits.\"}')\n",
      "Retrying... Attempt 4 after 8.0s due to: (429, 'Failure in encode: {\"status\":\"error\",\"message\":\"You have exceeded your daily credit limit of 10 credits.\"}')\n",
      "Retrying... Attempt 2 after 2.0s due to: (429, 'Failure in encode: {\"status\":\"error\",\"message\":\"You have exceeded your daily credit limit of 10 credits.\"}')\n",
      "Retrying... Attempt 3 after 4.0s due to: (429, 'Failure in encode: {\"status\":\"error\",\"message\":\"You have exceeded your daily credit limit of 10 credits.\"}')Retrying... Attempt 2 after 2.0s due to: (429, 'Failure in encode: {\"status\":\"error\",\"message\":\"You have exceeded your daily credit limit of 10 credits.\"}')\n",
      "\n",
      "Retrying... Attempt 4 after 8.0s due to: (429, 'Failure in encode: {\"status\":\"error\",\"message\":\"You have exceeded your daily credit limit of 10 credits.\"}')\n",
      "Retrying... Attempt 2 after 2.0s due to: (429, 'Failure in encode: {\"status\":\"error\",\"message\":\"You have exceeded your daily credit limit of 10 credits.\"}')\n",
      "Retrying... Attempt 3 after 4.0s due to: (429, 'Failure in encode: {\"status\":\"error\",\"message\":\"You have exceeded your daily credit limit of 10 credits.\"}')\n",
      "Retrying... Attempt 3 after 4.0s due to: (429, 'Failure in encode: {\"status\":\"error\",\"message\":\"You have exceeded your daily credit limit of 10 credits.\"}')\n",
      "Retrying... Attempt 3 after 4.0s due to: (429, 'Failure in encode: {\"status\":\"error\",\"message\":\"You have exceeded your daily credit limit of 10 credits.\"}')\n",
      "Retrying... Attempt 4 after 8.0s due to: (429, 'Failure in encode: {\"status\":\"error\",\"message\":\"You have exceeded your daily credit limit of 10 credits.\"}')\n",
      "Retrying... Attempt 3 after 4.0s due to: (429, 'Failure in encode: {\"status\":\"error\",\"message\":\"You have exceeded your daily credit limit of 10 credits.\"}')\n",
      "Retrying... Attempt 1 after 1.0s due to: (429, 'Failure in encode: {\"status\":\"error\",\"message\":\"You have exceeded your daily credit limit of 10 credits.\"}')\n",
      "Retrying... Attempt 4 after 8.0s due to: (429, 'Failure in encode: {\"status\":\"error\",\"message\":\"You have exceeded your daily credit limit of 10 credits.\"}')\n",
      "Retrying... Attempt 2 after 2.0s due to: (429, 'Failure in encode: {\"status\":\"error\",\"message\":\"You have exceeded your daily credit limit of 10 credits.\"}')\n",
      "Retrying... Attempt 4 after 8.0s due to: (429, 'Failure in encode: {\"status\":\"error\",\"message\":\"You have exceeded your daily credit limit of 10 credits.\"}')\n",
      "Retrying... Attempt 1 after 1.0s due to: (429, 'Failure in encode: {\"status\":\"error\",\"message\":\"You have exceeded your daily credit limit of 10 credits.\"}')\n",
      "Retrying... Attempt 1 after 1.0s due to: (429, 'Failure in encode: {\"status\":\"error\",\"message\":\"You have exceeded your daily credit limit of 10 credits.\"}')\n",
      "Retrying... Attempt 4 after 8.0s due to: (429, 'Failure in encode: {\"status\":\"error\",\"message\":\"You have exceeded your daily credit limit of 10 credits.\"}')\n"
     ]
    },
    {
     "name": "stdout",
     "output_type": "stream",
     "text": [
      "Retrying... Attempt 4 after 8.0s due to: (429, 'Failure in encode: {\"status\":\"error\",\"message\":\"You have exceeded your daily credit limit of 10 credits.\"}')\n",
      "Retrying... Attempt 1 after 1.0s due to: (429, 'Failure in encode: {\"status\":\"error\",\"message\":\"You have exceeded your daily credit limit of 10 credits.\"}')\n",
      "Retrying... Attempt 4 after 8.0s due to: (429, 'Failure in encode: {\"status\":\"error\",\"message\":\"You have exceeded your daily credit limit of 10 credits.\"}')\n",
      "Retrying... Attempt 1 after 1.0s due to: (429, 'Failure in encode: {\"status\":\"error\",\"message\":\"You have exceeded your daily credit limit of 10 credits.\"}')\n",
      "Retrying... Attempt 3 after 4.0s due to: (429, 'Failure in encode: {\"status\":\"error\",\"message\":\"You have exceeded your daily credit limit of 10 credits.\"}')\n",
      "Retrying... Attempt 2 after 2.0s due to: (429, 'Failure in encode: {\"status\":\"error\",\"message\":\"You have exceeded your daily credit limit of 10 credits.\"}')\n",
      "Retrying... Attempt 2 after 2.0s due to: (429, 'Failure in encode: {\"status\":\"error\",\"message\":\"You have exceeded your daily credit limit of 10 credits.\"}')\n",
      "Retrying... Attempt 1 after 1.0s due to: (429, 'Failure in encode: {\"status\":\"error\",\"message\":\"You have exceeded your daily credit limit of 10 credits.\"}')\n",
      "Retrying... Attempt 2 after 2.0s due to: (429, 'Failure in encode: {\"status\":\"error\",\"message\":\"You have exceeded your daily credit limit of 10 credits.\"}')\n",
      "Retrying... Attempt 2 after 2.0s due to: (429, 'Failure in encode: {\"status\":\"error\",\"message\":\"You have exceeded your daily credit limit of 10 credits.\"}')\n",
      "Retrying... Attempt 3 after 4.0s due to: (429, 'Failure in encode: {\"status\":\"error\",\"message\":\"You have exceeded your daily credit limit of 10 credits.\"}')\n",
      "Retrying... Attempt 2 after 2.0s due to: (429, 'Failure in encode: {\"status\":\"error\",\"message\":\"You have exceeded your daily credit limit of 10 credits.\"}')\n",
      "Retrying... Attempt 3 after 4.0s due to: (429, 'Failure in encode: {\"status\":\"error\",\"message\":\"You have exceeded your daily credit limit of 10 credits.\"}')\n",
      "Retrying... Attempt 1 after 1.0s due to: (429, 'Failure in encode: {\"status\":\"error\",\"message\":\"You have exceeded your daily credit limit of 10 credits.\"}')\n",
      "Retrying... Attempt 3 after 4.0s due to: (429, 'Failure in encode: {\"status\":\"error\",\"message\":\"You have exceeded your daily credit limit of 10 credits.\"}')\n",
      "Retrying... Attempt 4 after 8.0s due to: (429, 'Failure in encode: {\"status\":\"error\",\"message\":\"You have exceeded your daily credit limit of 10 credits.\"}')Retrying... Attempt 3 after 4.0s due to: (429, 'Failure in encode: {\"status\":\"error\",\"message\":\"You have exceeded your daily credit limit of 10 credits.\"}')\n",
      "\n",
      "Retrying... Attempt 1 after 1.0s due to: (429, 'Failure in encode: {\"status\":\"error\",\"message\":\"You have exceeded your daily credit limit of 10 credits.\"}')Retrying... Attempt 3 after 4.0s due to: (429, 'Failure in encode: {\"status\":\"error\",\"message\":\"You have exceeded your daily credit limit of 10 credits.\"}')\n",
      "Retrying... Attempt 2 after 2.0s due to: (429, 'Failure in encode: {\"status\":\"error\",\"message\":\"You have exceeded your daily credit limit of 10 credits.\"}')\n",
      "\n",
      "Retrying... Attempt 1 after 1.0s due to: (429, 'Failure in encode: {\"status\":\"error\",\"message\":\"You have exceeded your daily credit limit of 10 credits.\"}')\n",
      "Retrying... Attempt 4 after 8.0s due to: (429, 'Failure in encode: {\"status\":\"error\",\"message\":\"You have exceeded your daily credit limit of 10 credits.\"}')\n",
      "Retrying... Attempt 4 after 8.0s due to: (429, 'Failure in encode: {\"status\":\"error\",\"message\":\"You have exceeded your daily credit limit of 10 credits.\"}')\n",
      "Retrying... Attempt 2 after 2.0s due to: (429, 'Failure in encode: {\"status\":\"error\",\"message\":\"You have exceeded your daily credit limit of 10 credits.\"}')\n",
      "Retrying... Attempt 1 after 1.0s due to: (429, 'Failure in encode: {\"status\":\"error\",\"message\":\"You have exceeded your daily credit limit of 10 credits.\"}')\n",
      "Retrying... Attempt 1 after 1.0s due to: (429, 'Failure in encode: {\"status\":\"error\",\"message\":\"You have exceeded your daily credit limit of 10 credits.\"}')\n",
      "Retrying... Attempt 2 after 2.0s due to: (429, 'Failure in encode: {\"status\":\"error\",\"message\":\"You have exceeded your daily credit limit of 10 credits.\"}')Retrying... Attempt 3 after 4.0s due to: (429, 'Failure in encode: {\"status\":\"error\",\"message\":\"You have exceeded your daily credit limit of 10 credits.\"}')\n",
      "\n",
      "Retrying... Attempt 4 after 8.0s due to: (429, 'Failure in encode: {\"status\":\"error\",\"message\":\"You have exceeded your daily credit limit of 10 credits.\"}')\n",
      "Retrying... Attempt 1 after 1.0s due to: (429, 'Failure in encode: {\"status\":\"error\",\"message\":\"You have exceeded your daily credit limit of 10 credits.\"}')\n",
      "Retrying... Attempt 4 after 8.0s due to: (429, 'Failure in encode: {\"status\":\"error\",\"message\":\"You have exceeded your daily credit limit of 10 credits.\"}')\n",
      "Retrying... Attempt 2 after 2.0s due to: (429, 'Failure in encode: {\"status\":\"error\",\"message\":\"You have exceeded your daily credit limit of 10 credits.\"}')\n",
      "Retrying... Attempt 2 after 2.0s due to: (429, 'Failure in encode: {\"status\":\"error\",\"message\":\"You have exceeded your daily credit limit of 10 credits.\"}')\n",
      "Retrying... Attempt 3 after 4.0s due to: (429, 'Failure in encode: {\"status\":\"error\",\"message\":\"You have exceeded your daily credit limit of 10 credits.\"}')Retrying... Attempt 4 after 8.0s due to: (429, 'Failure in encode: {\"status\":\"error\",\"message\":\"You have exceeded your daily credit limit of 10 credits.\"}')\n",
      "\n",
      "Retrying... Attempt 2 after 2.0s due to: (429, 'Failure in encode: {\"status\":\"error\",\"message\":\"You have exceeded your daily credit limit of 10 credits.\"}')\n",
      "Retrying... Attempt 3 after 4.0s due to: (429, 'Failure in encode: {\"status\":\"error\",\"message\":\"You have exceeded your daily credit limit of 10 credits.\"}')\n",
      "Retrying... Attempt 3 after 4.0s due to: (429, 'Failure in encode: {\"status\":\"error\",\"message\":\"You have exceeded your daily credit limit of 10 credits.\"}')\n",
      "Retrying... Attempt 3 after 4.0s due to: (429, 'Failure in encode: {\"status\":\"error\",\"message\":\"You have exceeded your daily credit limit of 10 credits.\"}')\n",
      "Retrying... Attempt 4 after 8.0s due to: (429, 'Failure in encode: {\"status\":\"error\",\"message\":\"You have exceeded your daily credit limit of 10 credits.\"}')\n",
      "Retrying... Attempt 3 after 4.0s due to: (429, 'Failure in encode: {\"status\":\"error\",\"message\":\"You have exceeded your daily credit limit of 10 credits.\"}')\n",
      "Retrying... Attempt 1 after 1.0s due to: (429, 'Failure in encode: {\"status\":\"error\",\"message\":\"You have exceeded your daily credit limit of 10 credits.\"}')\n",
      "Retrying... Attempt 4 after 8.0s due to: (429, 'Failure in encode: {\"status\":\"error\",\"message\":\"You have exceeded your daily credit limit of 10 credits.\"}')\n",
      "Retrying... Attempt 4 after 8.0s due to: (429, 'Failure in encode: {\"status\":\"error\",\"message\":\"You have exceeded your daily credit limit of 10 credits.\"}')Retrying... Attempt 2 after 2.0s due to: (429, 'Failure in encode: {\"status\":\"error\",\"message\":\"You have exceeded your daily credit limit of 10 credits.\"}')\n",
      "\n",
      "Retrying... Attempt 1 after 1.0s due to: (429, 'Failure in encode: {\"status\":\"error\",\"message\":\"You have exceeded your daily credit limit of 10 credits.\"}')Retrying... Attempt 1 after 1.0s due to: (429, 'Failure in encode: {\"status\":\"error\",\"message\":\"You have exceeded your daily credit limit of 10 credits.\"}')\n",
      "\n",
      "Retrying... Attempt 4 after 8.0s due to: (429, 'Failure in encode: {\"status\":\"error\",\"message\":\"You have exceeded your daily credit limit of 10 credits.\"}')\n",
      "Retrying... Attempt 4 after 8.0s due to: (429, 'Failure in encode: {\"status\":\"error\",\"message\":\"You have exceeded your daily credit limit of 10 credits.\"}')\n",
      "Retrying... Attempt 1 after 1.0s due to: (429, 'Failure in encode: {\"status\":\"error\",\"message\":\"You have exceeded your daily credit limit of 10 credits.\"}')\n",
      "Retrying... Attempt 4 after 8.0s due to: (429, 'Failure in encode: {\"status\":\"error\",\"message\":\"You have exceeded your daily credit limit of 10 credits.\"}')\n",
      "Retrying... Attempt 1 after 1.0s due to: (429, 'Failure in encode: {\"status\":\"error\",\"message\":\"You have exceeded your daily credit limit of 10 credits.\"}')\n",
      "Retrying... Attempt 2 after 2.0s due to: (429, 'Failure in encode: {\"status\":\"error\",\"message\":\"You have exceeded your daily credit limit of 10 credits.\"}')\n",
      "Retrying... Attempt 2 after 2.0s due to: (429, 'Failure in encode: {\"status\":\"error\",\"message\":\"You have exceeded your daily credit limit of 10 credits.\"}')\n"
     ]
    },
    {
     "name": "stdout",
     "output_type": "stream",
     "text": [
      "Retrying... Attempt 3 after 4.0s due to: (429, 'Failure in encode: {\"status\":\"error\",\"message\":\"You have exceeded your daily credit limit of 10 credits.\"}')\n",
      "Retrying... Attempt 1 after 1.0s due to: (429, 'Failure in encode: {\"status\":\"error\",\"message\":\"You have exceeded your daily credit limit of 10 credits.\"}')\n",
      "Retrying... Attempt 2 after 2.0s due to: (429, 'Failure in encode: {\"status\":\"error\",\"message\":\"You have exceeded your daily credit limit of 10 credits.\"}')\n",
      "Retrying... Attempt 2 after 2.0s due to: (429, 'Failure in encode: {\"status\":\"error\",\"message\":\"You have exceeded your daily credit limit of 10 credits.\"}')\n",
      "Retrying... Attempt 2 after 2.0s due to: (429, 'Failure in encode: {\"status\":\"error\",\"message\":\"You have exceeded your daily credit limit of 10 credits.\"}')\n",
      "Retrying... Attempt 3 after 4.0s due to: (429, 'Failure in encode: {\"status\":\"error\",\"message\":\"You have exceeded your daily credit limit of 10 credits.\"}')\n",
      "Retrying... Attempt 3 after 4.0s due to: (429, 'Failure in encode: {\"status\":\"error\",\"message\":\"You have exceeded your daily credit limit of 10 credits.\"}')\n",
      "Retrying... Attempt 3 after 4.0s due to: (429, 'Failure in encode: {\"status\":\"error\",\"message\":\"You have exceeded your daily credit limit of 10 credits.\"}')\n",
      "Retrying... Attempt 1 after 1.0s due to: (429, 'Failure in encode: {\"status\":\"error\",\"message\":\"You have exceeded your daily credit limit of 10 credits.\"}')\n",
      "Retrying... Attempt 3 after 4.0s due to: (429, 'Failure in encode: {\"status\":\"error\",\"message\":\"You have exceeded your daily credit limit of 10 credits.\"}')\n",
      "Retrying... Attempt 4 after 8.0s due to: (429, 'Failure in encode: {\"status\":\"error\",\"message\":\"You have exceeded your daily credit limit of 10 credits.\"}')\n",
      "Retrying... Attempt 3 after 4.0s due to: (429, 'Failure in encode: {\"status\":\"error\",\"message\":\"You have exceeded your daily credit limit of 10 credits.\"}')\n",
      "Retrying... Attempt 1 after 1.0s due to: (429, 'Failure in encode: {\"status\":\"error\",\"message\":\"You have exceeded your daily credit limit of 10 credits.\"}')\n",
      "Retrying... Attempt 2 after 2.0s due to: (429, 'Failure in encode: {\"status\":\"error\",\"message\":\"You have exceeded your daily credit limit of 10 credits.\"}')\n",
      "Retrying... Attempt 1 after 1.0s due to: (429, 'Failure in encode: {\"status\":\"error\",\"message\":\"You have exceeded your daily credit limit of 10 credits.\"}')\n",
      "Retrying... Attempt 1 after 1.0s due to: (429, 'Failure in encode: {\"status\":\"error\",\"message\":\"You have exceeded your daily credit limit of 10 credits.\"}')\n",
      "Retrying... Attempt 2 after 2.0s due to: (429, 'Failure in encode: {\"status\":\"error\",\"message\":\"You have exceeded your daily credit limit of 10 credits.\"}')\n",
      "Retrying... Attempt 4 after 8.0s due to: (429, 'Failure in encode: {\"status\":\"error\",\"message\":\"You have exceeded your daily credit limit of 10 credits.\"}')\n",
      "Retrying... Attempt 4 after 8.0s due to: (429, 'Failure in encode: {\"status\":\"error\",\"message\":\"You have exceeded your daily credit limit of 10 credits.\"}')\n",
      "Retrying... Attempt 1 after 1.0s due to: (429, 'Failure in encode: {\"status\":\"error\",\"message\":\"You have exceeded your daily credit limit of 10 credits.\"}')\n",
      "Retrying... Attempt 4 after 8.0s due to: (429, 'Failure in encode: {\"status\":\"error\",\"message\":\"You have exceeded your daily credit limit of 10 credits.\"}')\n",
      "Retrying... Attempt 2 after 2.0s due to: (429, 'Failure in encode: {\"status\":\"error\",\"message\":\"You have exceeded your daily credit limit of 10 credits.\"}')\n",
      "Retrying... Attempt 1 after 1.0s due to: (429, 'Failure in encode: {\"status\":\"error\",\"message\":\"You have exceeded your daily credit limit of 10 credits.\"}')\n",
      "Retrying... Attempt 3 after 4.0s due to: (429, 'Failure in encode: {\"status\":\"error\",\"message\":\"You have exceeded your daily credit limit of 10 credits.\"}')\n",
      "Retrying... Attempt 4 after 8.0s due to: (429, 'Failure in encode: {\"status\":\"error\",\"message\":\"You have exceeded your daily credit limit of 10 credits.\"}')\n",
      "Retrying... Attempt 2 after 2.0s due to: (429, 'Failure in encode: {\"status\":\"error\",\"message\":\"You have exceeded your daily credit limit of 10 credits.\"}')\n",
      "Retrying... Attempt 4 after 8.0s due to: (429, 'Failure in encode: {\"status\":\"error\",\"message\":\"You have exceeded your daily credit limit of 10 credits.\"}')Retrying... Attempt 2 after 2.0s due to: (429, 'Failure in encode: {\"status\":\"error\",\"message\":\"You have exceeded your daily credit limit of 10 credits.\"}')\n",
      "\n",
      "Retrying... Attempt 3 after 4.0s due to: (429, 'Failure in encode: {\"status\":\"error\",\"message\":\"You have exceeded your daily credit limit of 10 credits.\"}')\n",
      "Retrying... Attempt 2 after 2.0s due to: (429, 'Failure in encode: {\"status\":\"error\",\"message\":\"You have exceeded your daily credit limit of 10 credits.\"}')\n",
      "Retrying... Attempt 3 after 4.0s due to: (429, 'Failure in encode: {\"status\":\"error\",\"message\":\"You have exceeded your daily credit limit of 10 credits.\"}')\n",
      "Retrying... Attempt 3 after 4.0s due to: (429, 'Failure in encode: {\"status\":\"error\",\"message\":\"You have exceeded your daily credit limit of 10 credits.\"}')\n",
      "Retrying... Attempt 3 after 4.0s due to: (429, 'Failure in encode: {\"status\":\"error\",\"message\":\"You have exceeded your daily credit limit of 10 credits.\"}')\n",
      "Retrying... Attempt 4 after 8.0s due to: (429, 'Failure in encode: {\"status\":\"error\",\"message\":\"You have exceeded your daily credit limit of 10 credits.\"}')\n",
      "Retrying... Attempt 3 after 4.0s due to: (429, 'Failure in encode: {\"status\":\"error\",\"message\":\"You have exceeded your daily credit limit of 10 credits.\"}')\n",
      "Retrying... Attempt 1 after 1.0s due to: (429, 'Failure in encode: {\"status\":\"error\",\"message\":\"You have exceeded your daily credit limit of 10 credits.\"}')\n",
      "Retrying... Attempt 4 after 8.0s due to: (429, 'Failure in encode: {\"status\":\"error\",\"message\":\"You have exceeded your daily credit limit of 10 credits.\"}')\n",
      "Retrying... Attempt 2 after 2.0s due to: (429, 'Failure in encode: {\"status\":\"error\",\"message\":\"You have exceeded your daily credit limit of 10 credits.\"}')\n",
      "Retrying... Attempt 4 after 8.0s due to: (429, 'Failure in encode: {\"status\":\"error\",\"message\":\"You have exceeded your daily credit limit of 10 credits.\"}')\n",
      "Retrying... Attempt 1 after 1.0s due to: (429, 'Failure in encode: {\"status\":\"error\",\"message\":\"You have exceeded your daily credit limit of 10 credits.\"}')\n",
      "Retrying... Attempt 1 after 1.0s due to: (429, 'Failure in encode: {\"status\":\"error\",\"message\":\"You have exceeded your daily credit limit of 10 credits.\"}')\n",
      "Retrying... Attempt 4 after 8.0s due to: (429, 'Failure in encode: {\"status\":\"error\",\"message\":\"You have exceeded your daily credit limit of 10 credits.\"}')\n",
      "Retrying... Attempt 1 after 1.0s due to: (429, 'Failure in encode: {\"status\":\"error\",\"message\":\"You have exceeded your daily credit limit of 10 credits.\"}')\n",
      "Retrying... Attempt 4 after 8.0s due to: (429, 'Failure in encode: {\"status\":\"error\",\"message\":\"You have exceeded your daily credit limit of 10 credits.\"}')\n",
      "Retrying... Attempt 4 after 8.0s due to: (429, 'Failure in encode: {\"status\":\"error\",\"message\":\"You have exceeded your daily credit limit of 10 credits.\"}')\n",
      "Retrying... Attempt 1 after 1.0s due to: (429, 'Failure in encode: {\"status\":\"error\",\"message\":\"You have exceeded your daily credit limit of 10 credits.\"}')\n",
      "Retrying... Attempt 2 after 2.0s due to: (429, 'Failure in encode: {\"status\":\"error\",\"message\":\"You have exceeded your daily credit limit of 10 credits.\"}')\n",
      "Retrying... Attempt 2 after 2.0s due to: (429, 'Failure in encode: {\"status\":\"error\",\"message\":\"You have exceeded your daily credit limit of 10 credits.\"}')\n",
      "Retrying... Attempt 3 after 4.0s due to: (429, 'Failure in encode: {\"status\":\"error\",\"message\":\"You have exceeded your daily credit limit of 10 credits.\"}')\n",
      "Retrying... Attempt 1 after 1.0s due to: (429, 'Failure in encode: {\"status\":\"error\",\"message\":\"You have exceeded your daily credit limit of 10 credits.\"}')\n",
      "Retrying... Attempt 2 after 2.0s due to: (429, 'Failure in encode: {\"status\":\"error\",\"message\":\"You have exceeded your daily credit limit of 10 credits.\"}')\n",
      "Retrying... Attempt 2 after 2.0s due to: (429, 'Failure in encode: {\"status\":\"error\",\"message\":\"You have exceeded your daily credit limit of 10 credits.\"}')\n",
      "Retrying... Attempt 3 after 4.0s due to: (429, 'Failure in encode: {\"status\":\"error\",\"message\":\"You have exceeded your daily credit limit of 10 credits.\"}')Retrying... Attempt 3 after 4.0s due to: (429, 'Failure in encode: {\"status\":\"error\",\"message\":\"You have exceeded your daily credit limit of 10 credits.\"}')\n",
      "Retrying... Attempt 2 after 2.0s due to: (429, 'Failure in encode: {\"status\":\"error\",\"message\":\"You have exceeded your daily credit limit of 10 credits.\"}')\n",
      "\n"
     ]
    },
    {
     "name": "stdout",
     "output_type": "stream",
     "text": [
      "Retrying... Attempt 3 after 4.0s due to: (429, 'Failure in encode: {\"status\":\"error\",\"message\":\"You have exceeded your daily credit limit of 10 credits.\"}')\n",
      "Retrying... Attempt 1 after 1.0s due to: (429, 'Failure in encode: {\"status\":\"error\",\"message\":\"You have exceeded your daily credit limit of 10 credits.\"}')\n",
      "Retrying... Attempt 3 after 4.0s due to: (429, 'Failure in encode: {\"status\":\"error\",\"message\":\"You have exceeded your daily credit limit of 10 credits.\"}')\n",
      "Retrying... Attempt 4 after 8.0s due to: (429, 'Failure in encode: {\"status\":\"error\",\"message\":\"You have exceeded your daily credit limit of 10 credits.\"}')\n",
      "Retrying... Attempt 3 after 4.0s due to: (429, 'Failure in encode: {\"status\":\"error\",\"message\":\"You have exceeded your daily credit limit of 10 credits.\"}')\n",
      "Retrying... Attempt 1 after 1.0s due to: (429, 'Failure in encode: {\"status\":\"error\",\"message\":\"You have exceeded your daily credit limit of 10 credits.\"}')\n",
      "Retrying... Attempt 2 after 2.0s due to: (429, 'Failure in encode: {\"status\":\"error\",\"message\":\"You have exceeded your daily credit limit of 10 credits.\"}')\n",
      "Retrying... Attempt 1 after 1.0s due to: (429, 'Failure in encode: {\"status\":\"error\",\"message\":\"You have exceeded your daily credit limit of 10 credits.\"}')\n",
      "Retrying... Attempt 4 after 8.0s due to: (429, 'Failure in encode: {\"status\":\"error\",\"message\":\"You have exceeded your daily credit limit of 10 credits.\"}')\n",
      "Retrying... Attempt 4 after 8.0s due to: (429, 'Failure in encode: {\"status\":\"error\",\"message\":\"You have exceeded your daily credit limit of 10 credits.\"}')\n",
      "Retrying... Attempt 2 after 2.0s due to: (429, 'Failure in encode: {\"status\":\"error\",\"message\":\"You have exceeded your daily credit limit of 10 credits.\"}')\n",
      "Retrying... Attempt 1 after 1.0s due to: (429, 'Failure in encode: {\"status\":\"error\",\"message\":\"You have exceeded your daily credit limit of 10 credits.\"}')\n",
      "Retrying... Attempt 1 after 1.0s due to: (429, 'Failure in encode: {\"status\":\"error\",\"message\":\"You have exceeded your daily credit limit of 10 credits.\"}')\n",
      "Retrying... Attempt 2 after 2.0s due to: (429, 'Failure in encode: {\"status\":\"error\",\"message\":\"You have exceeded your daily credit limit of 10 credits.\"}')\n",
      "Retrying... Attempt 1 after 1.0s due to: (429, 'Failure in encode: {\"status\":\"error\",\"message\":\"You have exceeded your daily credit limit of 10 credits.\"}')Retrying... Attempt 4 after 8.0s due to: (429, 'Failure in encode: {\"status\":\"error\",\"message\":\"You have exceeded your daily credit limit of 10 credits.\"}')\n",
      "\n",
      "Retrying... Attempt 4 after 8.0s due to: (429, 'Failure in encode: {\"status\":\"error\",\"message\":\"You have exceeded your daily credit limit of 10 credits.\"}')\n",
      "Retrying... Attempt 3 after 4.0s due to: (429, 'Failure in encode: {\"status\":\"error\",\"message\":\"You have exceeded your daily credit limit of 10 credits.\"}')\n",
      "Retrying... Attempt 2 after 2.0s due to: (429, 'Failure in encode: {\"status\":\"error\",\"message\":\"You have exceeded your daily credit limit of 10 credits.\"}')\n",
      "Retrying... Attempt 4 after 8.0s due to: (429, 'Failure in encode: {\"status\":\"error\",\"message\":\"You have exceeded your daily credit limit of 10 credits.\"}')\n",
      "Retrying... Attempt 2 after 2.0s due to: (429, 'Failure in encode: {\"status\":\"error\",\"message\":\"You have exceeded your daily credit limit of 10 credits.\"}')\n",
      "Retrying... Attempt 3 after 4.0s due to: (429, 'Failure in encode: {\"status\":\"error\",\"message\":\"You have exceeded your daily credit limit of 10 credits.\"}')\n",
      "Retrying... Attempt 2 after 2.0s due to: (429, 'Failure in encode: {\"status\":\"error\",\"message\":\"You have exceeded your daily credit limit of 10 credits.\"}')\n",
      "Retrying... Attempt 3 after 4.0s due to: (429, 'Failure in encode: {\"status\":\"error\",\"message\":\"You have exceeded your daily credit limit of 10 credits.\"}')\n",
      "Retrying... Attempt 3 after 4.0s due to: (429, 'Failure in encode: {\"status\":\"error\",\"message\":\"You have exceeded your daily credit limit of 10 credits.\"}')\n",
      "Retrying... Attempt 3 after 4.0s due to: (429, 'Failure in encode: {\"status\":\"error\",\"message\":\"You have exceeded your daily credit limit of 10 credits.\"}')\n",
      "Retrying... Attempt 3 after 4.0s due to: (429, 'Failure in encode: {\"status\":\"error\",\"message\":\"You have exceeded your daily credit limit of 10 credits.\"}')\n",
      "Retrying... Attempt 1 after 1.0s due to: (429, 'Failure in encode: {\"status\":\"error\",\"message\":\"You have exceeded your daily credit limit of 10 credits.\"}')Retrying... Attempt 4 after 8.0s due to: (429, 'Failure in encode: {\"status\":\"error\",\"message\":\"You have exceeded your daily credit limit of 10 credits.\"}')\n",
      "\n",
      "Retrying... Attempt 4 after 8.0s due to: (429, 'Failure in encode: {\"status\":\"error\",\"message\":\"You have exceeded your daily credit limit of 10 credits.\"}')\n",
      "Retrying... Attempt 2 after 2.0s due to: (429, 'Failure in encode: {\"status\":\"error\",\"message\":\"You have exceeded your daily credit limit of 10 credits.\"}')\n",
      "Retrying... Attempt 4 after 8.0s due to: (429, 'Failure in encode: {\"status\":\"error\",\"message\":\"You have exceeded your daily credit limit of 10 credits.\"}')\n",
      "Retrying... Attempt 1 after 1.0s due to: (429, 'Failure in encode: {\"status\":\"error\",\"message\":\"You have exceeded your daily credit limit of 10 credits.\"}')Retrying... Attempt 1 after 1.0s due to: (429, 'Failure in encode: {\"status\":\"error\",\"message\":\"You have exceeded your daily credit limit of 10 credits.\"}')\n",
      "\n",
      "Retrying... Attempt 4 after 8.0s due to: (429, 'Failure in encode: {\"status\":\"error\",\"message\":\"You have exceeded your daily credit limit of 10 credits.\"}')\n",
      "Retrying... Attempt 4 after 8.0s due to: (429, 'Failure in encode: {\"status\":\"error\",\"message\":\"You have exceeded your daily credit limit of 10 credits.\"}')Retrying... Attempt 1 after 1.0s due to: (429, 'Failure in encode: {\"status\":\"error\",\"message\":\"You have exceeded your daily credit limit of 10 credits.\"}')\n",
      "Retrying... Attempt 4 after 8.0s due to: (429, 'Failure in encode: {\"status\":\"error\",\"message\":\"You have exceeded your daily credit limit of 10 credits.\"}')\n",
      "\n",
      "Retrying... Attempt 1 after 1.0s due to: (429, 'Failure in encode: {\"status\":\"error\",\"message\":\"You have exceeded your daily credit limit of 10 credits.\"}')\n",
      "Retrying... Attempt 3 after 4.0s due to: (429, 'Failure in encode: {\"status\":\"error\",\"message\":\"You have exceeded your daily credit limit of 10 credits.\"}')\n",
      "Retrying... Attempt 2 after 2.0s due to: (429, 'Failure in encode: {\"status\":\"error\",\"message\":\"You have exceeded your daily credit limit of 10 credits.\"}')\n",
      "Retrying... Attempt 2 after 2.0s due to: (429, 'Failure in encode: {\"status\":\"error\",\"message\":\"You have exceeded your daily credit limit of 10 credits.\"}')\n",
      "Retrying... Attempt 1 after 1.0s due to: (429, 'Failure in encode: {\"status\":\"error\",\"message\":\"You have exceeded your daily credit limit of 10 credits.\"}')\n",
      "Retrying... Attempt 2 after 2.0s due to: (429, 'Failure in encode: {\"status\":\"error\",\"message\":\"You have exceeded your daily credit limit of 10 credits.\"}')\n",
      "Retrying... Attempt 2 after 2.0s due to: (429, 'Failure in encode: {\"status\":\"error\",\"message\":\"You have exceeded your daily credit limit of 10 credits.\"}')\n",
      "Retrying... Attempt 2 after 2.0s due to: (429, 'Failure in encode: {\"status\":\"error\",\"message\":\"You have exceeded your daily credit limit of 10 credits.\"}')\n",
      "Retrying... Attempt 3 after 4.0s due to: (429, 'Failure in encode: {\"status\":\"error\",\"message\":\"You have exceeded your daily credit limit of 10 credits.\"}')\n",
      "Retrying... Attempt 3 after 4.0s due to: (429, 'Failure in encode: {\"status\":\"error\",\"message\":\"You have exceeded your daily credit limit of 10 credits.\"}')\n",
      "Retrying... Attempt 1 after 1.0s due to: (429, 'Failure in encode: {\"status\":\"error\",\"message\":\"You have exceeded your daily credit limit of 10 credits.\"}')\n",
      "Retrying... Attempt 3 after 4.0s due to: (429, 'Failure in encode: {\"status\":\"error\",\"message\":\"You have exceeded your daily credit limit of 10 credits.\"}')\n",
      "Retrying... Attempt 4 after 8.0s due to: (429, 'Failure in encode: {\"status\":\"error\",\"message\":\"You have exceeded your daily credit limit of 10 credits.\"}')\n",
      "Retrying... Attempt 3 after 4.0s due to: (429, 'Failure in encode: {\"status\":\"error\",\"message\":\"You have exceeded your daily credit limit of 10 credits.\"}')\n",
      "Retrying... Attempt 1 after 1.0s due to: (429, 'Failure in encode: {\"status\":\"error\",\"message\":\"You have exceeded your daily credit limit of 10 credits.\"}')\n",
      "Retrying... Attempt 3 after 4.0s due to: (429, 'Failure in encode: {\"status\":\"error\",\"message\":\"You have exceeded your daily credit limit of 10 credits.\"}')\n"
     ]
    },
    {
     "name": "stdout",
     "output_type": "stream",
     "text": [
      "Retrying... Attempt 2 after 2.0s due to: (429, 'Failure in encode: {\"status\":\"error\",\"message\":\"You have exceeded your daily credit limit of 10 credits.\"}')\n",
      "Retrying... Attempt 1 after 1.0s due to: (429, 'Failure in encode: {\"status\":\"error\",\"message\":\"You have exceeded your daily credit limit of 10 credits.\"}')\n",
      "Retrying... Attempt 4 after 8.0s due to: (429, 'Failure in encode: {\"status\":\"error\",\"message\":\"You have exceeded your daily credit limit of 10 credits.\"}')\n",
      "Retrying... Attempt 2 after 2.0s due to: (429, 'Failure in encode: {\"status\":\"error\",\"message\":\"You have exceeded your daily credit limit of 10 credits.\"}')\n",
      "Retrying... Attempt 4 after 8.0s due to: (429, 'Failure in encode: {\"status\":\"error\",\"message\":\"You have exceeded your daily credit limit of 10 credits.\"}')\n",
      "Retrying... Attempt 1 after 1.0s due to: (429, 'Failure in encode: {\"status\":\"error\",\"message\":\"You have exceeded your daily credit limit of 10 credits.\"}')\n",
      "Retrying... Attempt 2 after 2.0s due to: (429, 'Failure in encode: {\"status\":\"error\",\"message\":\"You have exceeded your daily credit limit of 10 credits.\"}')\n",
      "Retrying... Attempt 1 after 1.0s due to: (429, 'Failure in encode: {\"status\":\"error\",\"message\":\"You have exceeded your daily credit limit of 10 credits.\"}')\n",
      "Retrying... Attempt 1 after 1.0s due to: (429, 'Failure in encode: {\"status\":\"error\",\"message\":\"You have exceeded your daily credit limit of 10 credits.\"}')\n",
      "Retrying... Attempt 3 after 4.0s due to: (429, 'Failure in encode: {\"status\":\"error\",\"message\":\"You have exceeded your daily credit limit of 10 credits.\"}')Retrying... Attempt 4 after 8.0s due to: (429, 'Failure in encode: {\"status\":\"error\",\"message\":\"You have exceeded your daily credit limit of 10 credits.\"}')\n",
      "\n",
      "Retrying... Attempt 4 after 8.0s due to: (429, 'Failure in encode: {\"status\":\"error\",\"message\":\"You have exceeded your daily credit limit of 10 credits.\"}')\n",
      "Retrying... Attempt 2 after 2.0s due to: (429, 'Failure in encode: {\"status\":\"error\",\"message\":\"You have exceeded your daily credit limit of 10 credits.\"}')\n",
      "Retrying... Attempt 4 after 8.0s due to: (429, 'Failure in encode: {\"status\":\"error\",\"message\":\"You have exceeded your daily credit limit of 10 credits.\"}')\n",
      "Retrying... Attempt 3 after 4.0s due to: (429, 'Failure in encode: {\"status\":\"error\",\"message\":\"You have exceeded your daily credit limit of 10 credits.\"}')\n",
      "Retrying... Attempt 2 after 2.0s due to: (429, 'Failure in encode: {\"status\":\"error\",\"message\":\"You have exceeded your daily credit limit of 10 credits.\"}')Retrying... Attempt 2 after 2.0s due to: (429, 'Failure in encode: {\"status\":\"error\",\"message\":\"You have exceeded your daily credit limit of 10 credits.\"}')\n",
      "\n",
      "Retrying... Attempt 3 after 4.0s due to: (429, 'Failure in encode: {\"status\":\"error\",\"message\":\"You have exceeded your daily credit limit of 10 credits.\"}')\n",
      "Retrying... Attempt 3 after 4.0s due to: (429, 'Failure in encode: {\"status\":\"error\",\"message\":\"You have exceeded your daily credit limit of 10 credits.\"}')\n",
      "Retrying... Attempt 3 after 4.0s due to: (429, 'Failure in encode: {\"status\":\"error\",\"message\":\"You have exceeded your daily credit limit of 10 credits.\"}')Retrying... Attempt 4 after 8.0s due to: (429, 'Failure in encode: {\"status\":\"error\",\"message\":\"You have exceeded your daily credit limit of 10 credits.\"}')\n",
      "Retrying... Attempt 3 after 4.0s due to: (429, 'Failure in encode: {\"status\":\"error\",\"message\":\"You have exceeded your daily credit limit of 10 credits.\"}')\n",
      "\n",
      "Retrying... Attempt 1 after 1.0s due to: (429, 'Failure in encode: {\"status\":\"error\",\"message\":\"You have exceeded your daily credit limit of 10 credits.\"}')\n",
      "Retrying... Attempt 4 after 8.0s due to: (429, 'Failure in encode: {\"status\":\"error\",\"message\":\"You have exceeded your daily credit limit of 10 credits.\"}')\n",
      "Retrying... Attempt 4 after 8.0s due to: (429, 'Failure in encode: {\"status\":\"error\",\"message\":\"You have exceeded your daily credit limit of 10 credits.\"}')\n",
      "Retrying... Attempt 2 after 2.0s due to: (429, 'Failure in encode: {\"status\":\"error\",\"message\":\"You have exceeded your daily credit limit of 10 credits.\"}')\n",
      "Retrying... Attempt 1 after 1.0s due to: (429, 'Failure in encode: {\"status\":\"error\",\"message\":\"You have exceeded your daily credit limit of 10 credits.\"}')\n",
      "Retrying... Attempt 1 after 1.0s due to: (429, 'Failure in encode: {\"status\":\"error\",\"message\":\"You have exceeded your daily credit limit of 10 credits.\"}')\n",
      "Retrying... Attempt 4 after 8.0s due to: (429, 'Failure in encode: {\"status\":\"error\",\"message\":\"You have exceeded your daily credit limit of 10 credits.\"}')\n",
      "Retrying... Attempt 1 after 1.0s due to: (429, 'Failure in encode: {\"status\":\"error\",\"message\":\"You have exceeded your daily credit limit of 10 credits.\"}')\n",
      "Retrying... Attempt 4 after 8.0s due to: (429, 'Failure in encode: {\"status\":\"error\",\"message\":\"You have exceeded your daily credit limit of 10 credits.\"}')Retrying... Attempt 4 after 8.0s due to: (429, 'Failure in encode: {\"status\":\"error\",\"message\":\"You have exceeded your daily credit limit of 10 credits.\"}')\n",
      "\n",
      "Retrying... Attempt 1 after 1.0s due to: (429, 'Failure in encode: {\"status\":\"error\",\"message\":\"You have exceeded your daily credit limit of 10 credits.\"}')\n",
      "Retrying... Attempt 2 after 2.0s due to: (429, 'Failure in encode: {\"status\":\"error\",\"message\":\"You have exceeded your daily credit limit of 10 credits.\"}')Retrying... Attempt 2 after 2.0s due to: (429, 'Failure in encode: {\"status\":\"error\",\"message\":\"You have exceeded your daily credit limit of 10 credits.\"}')\n",
      "\n",
      "Retrying... Attempt 3 after 4.0s due to: (429, 'Failure in encode: {\"status\":\"error\",\"message\":\"You have exceeded your daily credit limit of 10 credits.\"}')\n",
      "Retrying... Attempt 1 after 1.0s due to: (429, 'Failure in encode: {\"status\":\"error\",\"message\":\"You have exceeded your daily credit limit of 10 credits.\"}')\n",
      "Retrying... Attempt 2 after 2.0s due to: (429, 'Failure in encode: {\"status\":\"error\",\"message\":\"You have exceeded your daily credit limit of 10 credits.\"}')\n",
      "Retrying... Attempt 2 after 2.0s due to: (429, 'Failure in encode: {\"status\":\"error\",\"message\":\"You have exceeded your daily credit limit of 10 credits.\"}')\n",
      "Retrying... Attempt 2 after 2.0s due to: (429, 'Failure in encode: {\"status\":\"error\",\"message\":\"You have exceeded your daily credit limit of 10 credits.\"}')\n",
      "Retrying... Attempt 3 after 4.0s due to: (429, 'Failure in encode: {\"status\":\"error\",\"message\":\"You have exceeded your daily credit limit of 10 credits.\"}')\n",
      "Retrying... Attempt 3 after 4.0s due to: (429, 'Failure in encode: {\"status\":\"error\",\"message\":\"You have exceeded your daily credit limit of 10 credits.\"}')\n",
      "Retrying... Attempt 1 after 1.0s due to: (429, 'Failure in encode: {\"status\":\"error\",\"message\":\"You have exceeded your daily credit limit of 10 credits.\"}')\n",
      "Retrying... Attempt 3 after 4.0s due to: (429, 'Failure in encode: {\"status\":\"error\",\"message\":\"You have exceeded your daily credit limit of 10 credits.\"}')\n",
      "Retrying... Attempt 3 after 4.0s due to: (429, 'Failure in encode: {\"status\":\"error\",\"message\":\"You have exceeded your daily credit limit of 10 credits.\"}')\n",
      "Retrying... Attempt 4 after 8.0s due to: (429, 'Failure in encode: {\"status\":\"error\",\"message\":\"You have exceeded your daily credit limit of 10 credits.\"}')\n",
      "Retrying... Attempt 1 after 1.0s due to: (429, 'Failure in encode: {\"status\":\"error\",\"message\":\"You have exceeded your daily credit limit of 10 credits.\"}')\n",
      "Retrying... Attempt 2 after 2.0s due to: (429, 'Failure in encode: {\"status\":\"error\",\"message\":\"You have exceeded your daily credit limit of 10 credits.\"}')\n",
      "Retrying... Attempt 3 after 4.0s due to: (429, 'Failure in encode: {\"status\":\"error\",\"message\":\"You have exceeded your daily credit limit of 10 credits.\"}')\n",
      "Retrying... Attempt 1 after 1.0s due to: (429, 'Failure in encode: {\"status\":\"error\",\"message\":\"You have exceeded your daily credit limit of 10 credits.\"}')\n",
      "Retrying... Attempt 4 after 8.0s due to: (429, 'Failure in encode: {\"status\":\"error\",\"message\":\"You have exceeded your daily credit limit of 10 credits.\"}')\n",
      "Retrying... Attempt 2 after 2.0s due to: (429, 'Failure in encode: {\"status\":\"error\",\"message\":\"You have exceeded your daily credit limit of 10 credits.\"}')\n",
      "Retrying... Attempt 4 after 8.0s due to: (429, 'Failure in encode: {\"status\":\"error\",\"message\":\"You have exceeded your daily credit limit of 10 credits.\"}')\n"
     ]
    }
   ],
   "source": [
    "# You may see some error messages due to rate limits on each Forge account,\n",
    "# but this will retry until the embedding job is complete\n",
    "# This may take a few minutes to run\n",
    "outputs = batch_embed(model, df[\"sequence\"].tolist())"
   ]
  },
  {
   "cell_type": "code",
   "execution_count": 35,
   "metadata": {},
   "outputs": [],
   "source": [
    "# !!only 336 sequences (out of 566) were embedded due to the model's limit so carrying out further analysis on 336 sequences\n",
    "outputs_new=outputs[:336]"
   ]
  },
  {
   "cell_type": "code",
   "execution_count": 31,
   "metadata": {},
   "outputs": [],
   "source": [
    "import torch"
   ]
  },
  {
   "cell_type": "code",
   "execution_count": 36,
   "metadata": {},
   "outputs": [
    {
     "name": "stdout",
     "output_type": "stream",
     "text": [
      "embedding shape [num_layers, hidden_size]: torch.Size([37, 1152])\n"
     ]
    }
   ],
   "source": [
    "# we'll summarize the embeddings using their mean across the sequence dimension\n",
    "# which allows us to compare embeddings for sequences of different lengths\n",
    "all_mean_embeddings = [\n",
    "    torch.mean(output.hidden_states, dim=-2).squeeze() for output in outputs_new\n",
    "]\n",
    "\n",
    "# now we have a list of tensors of [num_layers, hidden_size]\n",
    "print(\"embedding shape [num_layers, hidden_size]:\", all_mean_embeddings[0].shape)"
   ]
  },
  {
   "cell_type": "markdown",
   "metadata": {},
   "source": [
    "# Examine the performance of different layer embeddings\n",
    "\n",
    "For this example, we're going to use PCA to visualize whether the embeddings separate our proteins by their structural class. To assess the quality of our PCA, we fit a K means classifier with three clusters, corresponding to the three structural classes of our enzyme, and compute the [rand index](https://en.wikipedia.org/wiki/Rand_index), a measure of the quality of the clustering."
   ]
  },
  {
   "cell_type": "code",
   "execution_count": 47,
   "metadata": {},
   "outputs": [],
   "source": [
    "# matching fitness score of 336 sequences that were embeddded\n",
    "df3=df['Data'][:336]"
   ]
  },
  {
   "cell_type": "code",
   "execution_count": 48,
   "metadata": {},
   "outputs": [
    {
     "data": {
      "text/plain": [
       "0     -0.271\n",
       "1     -0.894\n",
       "2     -0.453\n",
       "3     -0.016\n",
       "4      0.066\n",
       "       ...  \n",
       "331   -0.269\n",
       "332   -0.398\n",
       "333   -0.006\n",
       "334   -0.031\n",
       "335   -0.641\n",
       "Name: Data, Length: 336, dtype: float64"
      ]
     },
     "execution_count": 48,
     "metadata": {},
     "output_type": "execute_result"
    }
   ],
   "source": [
    "df3"
   ]
  },
  {
   "cell_type": "code",
   "execution_count": 37,
   "metadata": {},
   "outputs": [],
   "source": [
    "from sklearn.cluster import KMeans\n",
    "from sklearn.decomposition import PCA\n",
    "from sklearn.metrics import adjusted_rand_score\n",
    "\n",
    "N_KMEANS_CLUSTERS = 3"
   ]
  },
  {
   "cell_type": "code",
   "execution_count": 61,
   "metadata": {},
   "outputs": [],
   "source": [
    "def plot_embeddings_at_layer(all_mean_embeddings: torch.Tensor, layer_idx: int):\n",
    "    stacked_mean_embeddings = torch.stack(\n",
    "        [embedding[layer_idx, :] for embedding in all_mean_embeddings]\n",
    "    ).numpy()\n",
    "\n",
    "    # project all the embeddings to 2D using PCA\n",
    "    pca = PCA(n_components=2)\n",
    "    pca.fit(stacked_mean_embeddings)\n",
    "    projected_mean_embeddings = pca.transform(stacked_mean_embeddings)\n",
    "\n",
    "    # compute kmeans purity as a measure of how good the clustering is\n",
    "    kmeans = KMeans(n_clusters=N_KMEANS_CLUSTERS, random_state=0).fit(\n",
    "        projected_mean_embeddings\n",
    "    )\n",
    "    rand_index = adjusted_rand_score(df3, kmeans.labels_)\n",
    "\n",
    "    # plot the clusters\n",
    "    plt.figure(figsize=(4, 4))\n",
    "    sns.scatterplot(\n",
    "        x=projected_mean_embeddings[:, 0],\n",
    "        y=projected_mean_embeddings[:, 1],\n",
    "        hue=df3,\n",
    "    )\n",
    "    plt.title(\n",
    "        f\"PCA of mean embeddings at layer {layer_idx}.\\nRand index: {rand_index:.2f}\"\n",
    "    )\n",
    "    plt.xlabel(\"PC 1\")\n",
    "    plt.ylabel(\"PC 2\")\n",
    "    plt.legend(title='Data', bbox_to_anchor=(1.05, 1), loc='upper left')\n",
    "    plt.show()"
   ]
  },
  {
   "cell_type": "code",
   "execution_count": 62,
   "metadata": {},
   "outputs": [
    {
     "name": "stderr",
     "output_type": "stream",
     "text": [
      "C:\\Users\\Sakshi\\Downloads\\thesis_janssen\\code\\py3.10env\\lib\\site-packages\\sklearn\\metrics\\cluster\\_supervised.py:59: UserWarning: Clustering metrics expects discrete values but received continuous values for label, and multiclass values for target\n",
      "  warnings.warn(msg, UserWarning)\n"
     ]
    },
    {
     "data": {
      "image/png": "[encoded data removed]",
      "text/plain": [
       "<Figure size 400x400 with 1 Axes>"
      ]
     },
     "metadata": {},
     "output_type": "display_data"
    }
   ],
   "source": [
    "#plot_embeddings_at_layer(all_mean_embeddings, layer_idx=30)\n",
    "plot_embeddings_at_layer(all_mean_embeddings, layer_idx=12)"
   ]
  },
  {
   "cell_type": "markdown",
   "metadata": {},
   "source": [
    "We see that the top principal components of layer 12 separate structural classes better than that of layer 30. Embed away! And keep in mind that different layers may be better or worse for your particular use-case."
   ]
  }
 ],
 "metadata": {
  "kernelspec": {
   "display_name": "py3.10env",
   "language": "python",
   "name": "py3.10env"
  },
  "language_info": {
   "codemirror_mode": {
    "name": "ipython",
    "version": 3
   },
   "file_extension": ".py",
   "mimetype": "text/x-python",
   "name": "python",
   "nbconvert_exporter": "python",
   "pygments_lexer": "ipython3",
   "version": "3.10.0"
  }
 },
 "nbformat": 4,
 "nbformat_minor": 2
}
